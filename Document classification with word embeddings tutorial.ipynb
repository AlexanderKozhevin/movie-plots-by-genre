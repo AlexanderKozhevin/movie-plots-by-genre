{
 "cells": [
  {
   "cell_type": "markdown",
   "metadata": {
    "slideshow": {
     "slide_type": "slide"
    }
   },
   "source": [
    "## Word Embeddings for Fun and Profit\n",
    "### Document classification with Gensim\n",
    "\n",
    "In this tutorial we'll classify movie plots by genre using word embeddings techniques in [gensim](http://radimrehurek.com/gensim/) . \n",
    "\n",
    "See accompanying slides in this repo.\n",
    "\n",
    "We will show how to get a __'hello-world'__ first untuned run using 7 techniques:\n",
    "\n",
    "- Bag of words\n",
    "\n",
    "- Character n-grams\n",
    "\n",
    "- TF-IDF \n",
    "\n",
    "- Averaging word2vec vectors\n",
    "\n",
    "- doc2vec\n",
    "\n",
    "- Deep IR \n",
    "\n",
    "- Word Mover's Distance\n",
    "\n",
    "The goal of this tutorial is to show the API so you can start tuning them yourself. Model tuning of the models is out of scope of this tutorial.\n",
    "\n",
    "We will also compare the accuracy of this first 'no tuning'/out of the box run of these techniques. It is in no way an indication of their best peformance that can be achieved with proper tuning. The benefit of the comparison is to manage the expectations."
   ]
  },
  {
   "cell_type": "markdown",
   "metadata": {
    "slideshow": {
     "slide_type": "slide"
    }
   },
   "source": [
    "## Requirements\n",
    "- Python 3\n",
    "- [Google News pre-trained word2vec (1.5 GB)](https://drive.google.com/file/d/0B7XkCwpI5KDYNlNUTTlSS21pQmM/edit?usp=sharing)\n",
    "- gensim\n",
    "- sklearn\n",
    "- pandas\n",
    "- matplotlib\n",
    "- nltk with English stopwords\n",
    "- pyemd\n",
    "- 4 GB RAM\n",
    "- 8 GB disk space for WMD"
   ]
  },
  {
   "cell_type": "markdown",
   "metadata": {
    "slideshow": {
     "slide_type": "slide"
    }
   },
   "source": [
    "## Dataset\n",
    "We will use MovieLens dataset linked with plots from OMDB. Thanks to [Sujit Pal](http://sujitpal.blogspot.de/2016/04/predicting-movie-tags-from-plots-using.html) for this linking idea. The prepared csv is in this repository. If you wish to link the datasets yourself - see the code in the [blog]((http://sujitpal.blogspot.de/2016/04/predicting-movie-tags-from-plots-using.html)."
   ]
  },
  {
   "cell_type": "code",
   "execution_count": 1,
   "metadata": {
    "collapsed": false,
    "slideshow": {
     "slide_type": "subslide"
    }
   },
   "outputs": [
    {
     "name": "stderr",
     "output_type": "stream",
     "text": [
      "2016-10-25 21:34:28,428 : INFO : 'pattern' package found; tag filters are available for English\n"
     ]
    }
   ],
   "source": [
    "import logging\n",
    "logging.root.handlers = []  # Jupyter messes up logging so needs a reset\n",
    "logging.basicConfig(format='%(asctime)s : %(levelname)s : %(message)s', level=logging.INFO)\n",
    "from smart_open import smart_open\n",
    "import pandas as pd\n",
    "import numpy as np\n",
    "import gensim\n",
    "import nltk\n",
    "from sklearn.cross_validation import train_test_split\n",
    "from sklearn import linear_model\n",
    "from sklearn.feature_extraction.text import CountVectorizer, TfidfVectorizer\n",
    "from sklearn.metrics import accuracy_score, confusion_matrix\n",
    "import matplotlib.pyplot as plt\n",
    "from gensim.models import Word2Vec\n",
    "from sklearn.neighbors import KNeighborsClassifier\n",
    "from sklearn import linear_model\n",
    "\n",
    "%matplotlib inline"
   ]
  },
  {
   "cell_type": "markdown",
   "metadata": {
    "slideshow": {
     "slide_type": "slide"
    }
   },
   "source": [
    "## Exploring the data\n",
    "\n"
   ]
  },
  {
   "cell_type": "code",
   "execution_count": 5,
   "metadata": {
    "collapsed": false,
    "slideshow": {
     "slide_type": "-"
    }
   },
   "outputs": [
    {
     "data": {
      "text/plain": [
       "171156"
      ]
     },
     "execution_count": 5,
     "metadata": {},
     "output_type": "execute_result"
    }
   ],
   "source": [
    "df = pd.read_csv('data/tagged_plots_movielens.csv')\n",
    "df = df.dropna()\n",
    "df['plot'].apply(lambda x: len(x.split(' '))).sum()"
   ]
  },
  {
   "cell_type": "markdown",
   "metadata": {
    "collapsed": false,
    "slideshow": {
     "slide_type": "-"
    }
   },
   "source": [
    "The dataset is only __170k__ words. It is quite small but makes sure we don't have to wait a long time for the code to complete."
   ]
  },
  {
   "cell_type": "code",
   "execution_count": 6,
   "metadata": {
    "collapsed": false,
    "slideshow": {
     "slide_type": "slide"
    }
   },
   "outputs": [
    {
     "data": {
      "text/plain": [
       "<matplotlib.axes._subplots.AxesSubplot at 0x7f74011b9710>"
      ]
     },
     "execution_count": 6,
     "metadata": {},
     "output_type": "execute_result"
    },
    {
     "data": {
      "image/png": "[encoded data removed]",
      "text/plain": [
       "<matplotlib.figure.Figure at 0x7f7401311c10>"
      ]
     },
     "metadata": {},
     "output_type": "display_data"
    }
   ],
   "source": [
    "my_tags = ['sci-fi' , 'action', 'comedy', 'fantasy', 'animation', 'romance']\n",
    "df.tag.value_counts().plot(kind=\"bar\", rot=0)"
   ]
  },
  {
   "cell_type": "markdown",
   "metadata": {
    "slideshow": {
     "slide_type": "fragment"
    }
   },
   "source": [
    "The data is very unbalanced. We have Comedy as majority class. \n",
    "\n",
    "A naive classifier that predicts everything to be comedy already achieves __40%__ accuracy."
   ]
  },
  {
   "cell_type": "markdown",
   "metadata": {},
   "source": [
    "The language in sci-fi plots differs a lot from romantic ones, so there should be some signal here."
   ]
  },
  {
   "cell_type": "code",
   "execution_count": 11,
   "metadata": {
    "collapsed": false,
    "slideshow": {
     "slide_type": "skip"
    }
   },
   "outputs": [
    {
     "data": {
      "text/html": [
       "<div>\n",
       "<table border=\"1\" class=\"dataframe\">\n",
       "  <thead>\n",
       "    <tr style=\"text-align: right;\">\n",
       "      <th></th>\n",
       "      <th>Unnamed: 0</th>\n",
       "      <th>movieId</th>\n",
       "      <th>plot</th>\n",
       "      <th>tag</th>\n",
       "    </tr>\n",
       "  </thead>\n",
       "  <tbody>\n",
       "    <tr>\n",
       "      <th>0</th>\n",
       "      <td>0</td>\n",
       "      <td>1</td>\n",
       "      <td>A little boy named Andy loves to be in his roo...</td>\n",
       "      <td>animation</td>\n",
       "    </tr>\n",
       "    <tr>\n",
       "      <th>1</th>\n",
       "      <td>1</td>\n",
       "      <td>2</td>\n",
       "      <td>When two kids find and play a magical board ga...</td>\n",
       "      <td>fantasy</td>\n",
       "    </tr>\n",
       "    <tr>\n",
       "      <th>2</th>\n",
       "      <td>2</td>\n",
       "      <td>3</td>\n",
       "      <td>Things don't seem to change much in Wabasha Co...</td>\n",
       "      <td>comedy</td>\n",
       "    </tr>\n",
       "    <tr>\n",
       "      <th>3</th>\n",
       "      <td>3</td>\n",
       "      <td>6</td>\n",
       "      <td>Hunters and their prey--Neil and his professio...</td>\n",
       "      <td>action</td>\n",
       "    </tr>\n",
       "    <tr>\n",
       "      <th>4</th>\n",
       "      <td>4</td>\n",
       "      <td>7</td>\n",
       "      <td>An ugly duckling having undergone a remarkable...</td>\n",
       "      <td>romance</td>\n",
       "    </tr>\n",
       "    <tr>\n",
       "      <th>5</th>\n",
       "      <td>5</td>\n",
       "      <td>9</td>\n",
       "      <td>Some terrorists kidnap the Vice President of t...</td>\n",
       "      <td>action</td>\n",
       "    </tr>\n",
       "    <tr>\n",
       "      <th>6</th>\n",
       "      <td>6</td>\n",
       "      <td>10</td>\n",
       "      <td>James Bond teams up with the lone survivor of ...</td>\n",
       "      <td>action</td>\n",
       "    </tr>\n",
       "    <tr>\n",
       "      <th>7</th>\n",
       "      <td>7</td>\n",
       "      <td>15</td>\n",
       "      <td>Morgan Adams and her slave, William Shaw, are ...</td>\n",
       "      <td>action</td>\n",
       "    </tr>\n",
       "    <tr>\n",
       "      <th>8</th>\n",
       "      <td>8</td>\n",
       "      <td>17</td>\n",
       "      <td>When Mr. Dashwood dies, he must leave the bulk...</td>\n",
       "      <td>romance</td>\n",
       "    </tr>\n",
       "    <tr>\n",
       "      <th>9</th>\n",
       "      <td>9</td>\n",
       "      <td>18</td>\n",
       "      <td>This movie features the collaborative director...</td>\n",
       "      <td>comedy</td>\n",
       "    </tr>\n",
       "    <tr>\n",
       "      <th>10</th>\n",
       "      <td>10</td>\n",
       "      <td>19</td>\n",
       "      <td>Ace Ventura, emerging from self-imposed exile ...</td>\n",
       "      <td>comedy</td>\n",
       "    </tr>\n",
       "    <tr>\n",
       "      <th>11</th>\n",
       "      <td>11</td>\n",
       "      <td>29</td>\n",
       "      <td>Krank (Daniel Emilfork), who cannot dream, kid...</td>\n",
       "      <td>sci-fi</td>\n",
       "    </tr>\n",
       "    <tr>\n",
       "      <th>12</th>\n",
       "      <td>12</td>\n",
       "      <td>32</td>\n",
       "      <td>In a future world devastated by disease, a con...</td>\n",
       "      <td>sci-fi</td>\n",
       "    </tr>\n",
       "    <tr>\n",
       "      <th>13</th>\n",
       "      <td>13</td>\n",
       "      <td>34</td>\n",
       "      <td>Farmer Hoggett wins a runt piglet at a local f...</td>\n",
       "      <td>fantasy</td>\n",
       "    </tr>\n",
       "    <tr>\n",
       "      <th>14</th>\n",
       "      <td>14</td>\n",
       "      <td>39</td>\n",
       "      <td>A rich high school student tries to boost a ne...</td>\n",
       "      <td>romance</td>\n",
       "    </tr>\n",
       "    <tr>\n",
       "      <th>15</th>\n",
       "      <td>15</td>\n",
       "      <td>44</td>\n",
       "      <td>Based on the popular video game of the same na...</td>\n",
       "      <td>action</td>\n",
       "    </tr>\n",
       "    <tr>\n",
       "      <th>16</th>\n",
       "      <td>16</td>\n",
       "      <td>48</td>\n",
       "      <td>Capt. John Smith leads a rag-tag band of Engli...</td>\n",
       "      <td>animation</td>\n",
       "    </tr>\n",
       "    <tr>\n",
       "      <th>17</th>\n",
       "      <td>17</td>\n",
       "      <td>50</td>\n",
       "      <td>Following a truck hijack in New York, five con...</td>\n",
       "      <td>comedy</td>\n",
       "    </tr>\n",
       "    <tr>\n",
       "      <th>18</th>\n",
       "      <td>18</td>\n",
       "      <td>57</td>\n",
       "      <td>After losing her job, making out with her soon...</td>\n",
       "      <td>comedy</td>\n",
       "    </tr>\n",
       "    <tr>\n",
       "      <th>19</th>\n",
       "      <td>19</td>\n",
       "      <td>69</td>\n",
       "      <td>Two homies, Smokey and Craig, smoke a dope dea...</td>\n",
       "      <td>comedy</td>\n",
       "    </tr>\n",
       "    <tr>\n",
       "      <th>20</th>\n",
       "      <td>20</td>\n",
       "      <td>70</td>\n",
       "      <td>Two criminals and their hostages unknowingly s...</td>\n",
       "      <td>action</td>\n",
       "    </tr>\n",
       "    <tr>\n",
       "      <th>21</th>\n",
       "      <td>21</td>\n",
       "      <td>76</td>\n",
       "      <td>(SIRIUS 6B, Year 2078) On a distant mining pla...</td>\n",
       "      <td>sci-fi</td>\n",
       "    </tr>\n",
       "    <tr>\n",
       "      <th>22</th>\n",
       "      <td>22</td>\n",
       "      <td>82</td>\n",
       "      <td>In an anonymous Dutch village, a sturdy, stron...</td>\n",
       "      <td>fantasy</td>\n",
       "    </tr>\n",
       "    <tr>\n",
       "      <th>23</th>\n",
       "      <td>23</td>\n",
       "      <td>88</td>\n",
       "      <td>Comedy about the prospective Washington State ...</td>\n",
       "      <td>comedy</td>\n",
       "    </tr>\n",
       "    <tr>\n",
       "      <th>24</th>\n",
       "      <td>24</td>\n",
       "      <td>95</td>\n",
       "      <td>\"Broken Arrow\" is the term used to describe a ...</td>\n",
       "      <td>action</td>\n",
       "    </tr>\n",
       "    <tr>\n",
       "      <th>25</th>\n",
       "      <td>25</td>\n",
       "      <td>104</td>\n",
       "      <td>A rejected hockey player puts his skills to th...</td>\n",
       "      <td>comedy</td>\n",
       "    </tr>\n",
       "    <tr>\n",
       "      <th>26</th>\n",
       "      <td>26</td>\n",
       "      <td>105</td>\n",
       "      <td>Photographer Robert Kincaid wanders into the l...</td>\n",
       "      <td>romance</td>\n",
       "    </tr>\n",
       "    <tr>\n",
       "      <th>27</th>\n",
       "      <td>27</td>\n",
       "      <td>110</td>\n",
       "      <td>When his secret bride is executed for assaulti...</td>\n",
       "      <td>action</td>\n",
       "    </tr>\n",
       "    <tr>\n",
       "      <th>28</th>\n",
       "      <td>28</td>\n",
       "      <td>141</td>\n",
       "      <td>Armand Goldman owns a popular drag nightclub i...</td>\n",
       "      <td>comedy</td>\n",
       "    </tr>\n",
       "    <tr>\n",
       "      <th>29</th>\n",
       "      <td>29</td>\n",
       "      <td>145</td>\n",
       "      <td>Marcus Burnett is a hen-pecked family man. Mik...</td>\n",
       "      <td>action</td>\n",
       "    </tr>\n",
       "    <tr>\n",
       "      <th>...</th>\n",
       "      <td>...</td>\n",
       "      <td>...</td>\n",
       "      <td>...</td>\n",
       "      <td>...</td>\n",
       "    </tr>\n",
       "    <tr>\n",
       "      <th>2415</th>\n",
       "      <td>2415</td>\n",
       "      <td>139863</td>\n",
       "      <td>The anime's story is set in 2027, one year aft...</td>\n",
       "      <td>sci-fi</td>\n",
       "    </tr>\n",
       "    <tr>\n",
       "      <th>2416</th>\n",
       "      <td>2416</td>\n",
       "      <td>139895</td>\n",
       "      <td>Agasyta, an urban bengali who seamlessly shutt...</td>\n",
       "      <td>comedy</td>\n",
       "    </tr>\n",
       "    <tr>\n",
       "      <th>2417</th>\n",
       "      <td>2417</td>\n",
       "      <td>139909</td>\n",
       "      <td>When a high-ranking government official's daug...</td>\n",
       "      <td>action</td>\n",
       "    </tr>\n",
       "    <tr>\n",
       "      <th>2418</th>\n",
       "      <td>2418</td>\n",
       "      <td>140345</td>\n",
       "      <td>In this feature-length film based on the \"Flin...</td>\n",
       "      <td>animation</td>\n",
       "    </tr>\n",
       "    <tr>\n",
       "      <th>2419</th>\n",
       "      <td>2419</td>\n",
       "      <td>140539</td>\n",
       "      <td>One night, Arlequin come to see his lover Colo...</td>\n",
       "      <td>animation</td>\n",
       "    </tr>\n",
       "    <tr>\n",
       "      <th>2420</th>\n",
       "      <td>2420</td>\n",
       "      <td>140545</td>\n",
       "      <td>The first all-animated film in history, a seri...</td>\n",
       "      <td>animation</td>\n",
       "    </tr>\n",
       "    <tr>\n",
       "      <th>2421</th>\n",
       "      <td>2421</td>\n",
       "      <td>140553</td>\n",
       "      <td>Cartoon figures announce, via comic strip ball...</td>\n",
       "      <td>animation</td>\n",
       "    </tr>\n",
       "    <tr>\n",
       "      <th>2423</th>\n",
       "      <td>2423</td>\n",
       "      <td>141741</td>\n",
       "      <td>Tale of vengeance -- outlaw style -- as Red Pi...</td>\n",
       "      <td>animation</td>\n",
       "    </tr>\n",
       "    <tr>\n",
       "      <th>2424</th>\n",
       "      <td>2424</td>\n",
       "      <td>142450</td>\n",
       "      <td>Madoka Kaname used to be a normal girl living ...</td>\n",
       "      <td>animation</td>\n",
       "    </tr>\n",
       "    <tr>\n",
       "      <th>2425</th>\n",
       "      <td>2425</td>\n",
       "      <td>142663</td>\n",
       "      <td>Everyone's favorite nursery rhyme characters c...</td>\n",
       "      <td>animation</td>\n",
       "    </tr>\n",
       "    <tr>\n",
       "      <th>2426</th>\n",
       "      <td>2426</td>\n",
       "      <td>142975</td>\n",
       "      <td>A team of highly skilled Navy SEALS find thems...</td>\n",
       "      <td>action</td>\n",
       "    </tr>\n",
       "    <tr>\n",
       "      <th>2427</th>\n",
       "      <td>2427</td>\n",
       "      <td>142997</td>\n",
       "      <td>The Drac pack is back for an all-new monster c...</td>\n",
       "      <td>animation</td>\n",
       "    </tr>\n",
       "    <tr>\n",
       "      <th>2428</th>\n",
       "      <td>2428</td>\n",
       "      <td>143245</td>\n",
       "      <td>From Mark Osborne comes the first-ever animate...</td>\n",
       "      <td>animation</td>\n",
       "    </tr>\n",
       "    <tr>\n",
       "      <th>2429</th>\n",
       "      <td>2429</td>\n",
       "      <td>143695</td>\n",
       "      <td>The Falls is a feature film about two missiona...</td>\n",
       "      <td>romance</td>\n",
       "    </tr>\n",
       "    <tr>\n",
       "      <th>2430</th>\n",
       "      <td>2430</td>\n",
       "      <td>143874</td>\n",
       "      <td>Three people in Tokyo take a surreal voyage of...</td>\n",
       "      <td>fantasy</td>\n",
       "    </tr>\n",
       "    <tr>\n",
       "      <th>2431</th>\n",
       "      <td>2431</td>\n",
       "      <td>143880</td>\n",
       "      <td>Steve Austin stars as U.S. Border Patrol agent...</td>\n",
       "      <td>action</td>\n",
       "    </tr>\n",
       "    <tr>\n",
       "      <th>2432</th>\n",
       "      <td>2432</td>\n",
       "      <td>143969</td>\n",
       "      <td>Adolf Hitler wakes up to find himself in the 2...</td>\n",
       "      <td>comedy</td>\n",
       "    </tr>\n",
       "    <tr>\n",
       "      <th>2433</th>\n",
       "      <td>2433</td>\n",
       "      <td>145066</td>\n",
       "      <td>With her bold, straightforward style of comedy...</td>\n",
       "      <td>comedy</td>\n",
       "    </tr>\n",
       "    <tr>\n",
       "      <th>2434</th>\n",
       "      <td>2434</td>\n",
       "      <td>145759</td>\n",
       "      <td>When a US plane is taken down over seas by an ...</td>\n",
       "      <td>sci-fi</td>\n",
       "    </tr>\n",
       "    <tr>\n",
       "      <th>2435</th>\n",
       "      <td>2435</td>\n",
       "      <td>145935</td>\n",
       "      <td>Charlie Brown, Lucy, Snoopy, and the whole gan...</td>\n",
       "      <td>animation</td>\n",
       "    </tr>\n",
       "    <tr>\n",
       "      <th>2436</th>\n",
       "      <td>2436</td>\n",
       "      <td>146114</td>\n",
       "      <td>Raju is a joker, a clown. It is what he is and...</td>\n",
       "      <td>romance</td>\n",
       "    </tr>\n",
       "    <tr>\n",
       "      <th>2437</th>\n",
       "      <td>2437</td>\n",
       "      <td>146427</td>\n",
       "      <td>On their way to find Paris, Sture the dog (Has...</td>\n",
       "      <td>animation</td>\n",
       "    </tr>\n",
       "    <tr>\n",
       "      <th>2438</th>\n",
       "      <td>2438</td>\n",
       "      <td>146684</td>\n",
       "      <td>Scrat's epic pursuit of the elusive acorn cata...</td>\n",
       "      <td>animation</td>\n",
       "    </tr>\n",
       "    <tr>\n",
       "      <th>2440</th>\n",
       "      <td>2440</td>\n",
       "      <td>147781</td>\n",
       "      <td>Mourning the loss of her brother/collaborator,...</td>\n",
       "      <td>action</td>\n",
       "    </tr>\n",
       "    <tr>\n",
       "      <th>2441</th>\n",
       "      <td>2441</td>\n",
       "      <td>148382</td>\n",
       "      <td>A modern Cinderella in Paris: While the plain ...</td>\n",
       "      <td>romance</td>\n",
       "    </tr>\n",
       "    <tr>\n",
       "      <th>2443</th>\n",
       "      <td>2443</td>\n",
       "      <td>148618</td>\n",
       "      <td>Three kids who travel back in time to 65 milli...</td>\n",
       "      <td>animation</td>\n",
       "    </tr>\n",
       "    <tr>\n",
       "      <th>2444</th>\n",
       "      <td>2444</td>\n",
       "      <td>148624</td>\n",
       "      <td>Top Cat and the gang face a new police chief, ...</td>\n",
       "      <td>animation</td>\n",
       "    </tr>\n",
       "    <tr>\n",
       "      <th>2445</th>\n",
       "      <td>2445</td>\n",
       "      <td>149088</td>\n",
       "      <td>Raggedy Ann and the rest of the toys in Marcel...</td>\n",
       "      <td>animation</td>\n",
       "    </tr>\n",
       "    <tr>\n",
       "      <th>2446</th>\n",
       "      <td>2446</td>\n",
       "      <td>149406</td>\n",
       "      <td>Continuing his \"legendary adventures of awesom...</td>\n",
       "      <td>comedy</td>\n",
       "    </tr>\n",
       "    <tr>\n",
       "      <th>2447</th>\n",
       "      <td>2447</td>\n",
       "      <td>151451</td>\n",
       "      <td>A romance fantasy humorous situations cleverly...</td>\n",
       "      <td>romance</td>\n",
       "    </tr>\n",
       "  </tbody>\n",
       "</table>\n",
       "<p>2427 rows × 4 columns</p>\n",
       "</div>"
      ],
      "text/plain": [
       "      Unnamed: 0  movieId                                               plot  \\\n",
       "0              0        1  A little boy named Andy loves to be in his roo...   \n",
       "1              1        2  When two kids find and play a magical board ga...   \n",
       "2              2        3  Things don't seem to change much in Wabasha Co...   \n",
       "3              3        6  Hunters and their prey--Neil and his professio...   \n",
       "4              4        7  An ugly duckling having undergone a remarkable...   \n",
       "5              5        9  Some terrorists kidnap the Vice President of t...   \n",
       "6              6       10  James Bond teams up with the lone survivor of ...   \n",
       "7              7       15  Morgan Adams and her slave, William Shaw, are ...   \n",
       "8              8       17  When Mr. Dashwood dies, he must leave the bulk...   \n",
       "9              9       18  This movie features the collaborative director...   \n",
       "10            10       19  Ace Ventura, emerging from self-imposed exile ...   \n",
       "11            11       29  Krank (Daniel Emilfork), who cannot dream, kid...   \n",
       "12            12       32  In a future world devastated by disease, a con...   \n",
       "13            13       34  Farmer Hoggett wins a runt piglet at a local f...   \n",
       "14            14       39  A rich high school student tries to boost a ne...   \n",
       "15            15       44  Based on the popular video game of the same na...   \n",
       "16            16       48  Capt. John Smith leads a rag-tag band of Engli...   \n",
       "17            17       50  Following a truck hijack in New York, five con...   \n",
       "18            18       57  After losing her job, making out with her soon...   \n",
       "19            19       69  Two homies, Smokey and Craig, smoke a dope dea...   \n",
       "20            20       70  Two criminals and their hostages unknowingly s...   \n",
       "21            21       76  (SIRIUS 6B, Year 2078) On a distant mining pla...   \n",
       "22            22       82  In an anonymous Dutch village, a sturdy, stron...   \n",
       "23            23       88  Comedy about the prospective Washington State ...   \n",
       "24            24       95  \"Broken Arrow\" is the term used to describe a ...   \n",
       "25            25      104  A rejected hockey player puts his skills to th...   \n",
       "26            26      105  Photographer Robert Kincaid wanders into the l...   \n",
       "27            27      110  When his secret bride is executed for assaulti...   \n",
       "28            28      141  Armand Goldman owns a popular drag nightclub i...   \n",
       "29            29      145  Marcus Burnett is a hen-pecked family man. Mik...   \n",
       "...          ...      ...                                                ...   \n",
       "2415        2415   139863  The anime's story is set in 2027, one year aft...   \n",
       "2416        2416   139895  Agasyta, an urban bengali who seamlessly shutt...   \n",
       "2417        2417   139909  When a high-ranking government official's daug...   \n",
       "2418        2418   140345  In this feature-length film based on the \"Flin...   \n",
       "2419        2419   140539  One night, Arlequin come to see his lover Colo...   \n",
       "2420        2420   140545  The first all-animated film in history, a seri...   \n",
       "2421        2421   140553  Cartoon figures announce, via comic strip ball...   \n",
       "2423        2423   141741  Tale of vengeance -- outlaw style -- as Red Pi...   \n",
       "2424        2424   142450  Madoka Kaname used to be a normal girl living ...   \n",
       "2425        2425   142663  Everyone's favorite nursery rhyme characters c...   \n",
       "2426        2426   142975  A team of highly skilled Navy SEALS find thems...   \n",
       "2427        2427   142997  The Drac pack is back for an all-new monster c...   \n",
       "2428        2428   143245  From Mark Osborne comes the first-ever animate...   \n",
       "2429        2429   143695  The Falls is a feature film about two missiona...   \n",
       "2430        2430   143874  Three people in Tokyo take a surreal voyage of...   \n",
       "2431        2431   143880  Steve Austin stars as U.S. Border Patrol agent...   \n",
       "2432        2432   143969  Adolf Hitler wakes up to find himself in the 2...   \n",
       "2433        2433   145066  With her bold, straightforward style of comedy...   \n",
       "2434        2434   145759  When a US plane is taken down over seas by an ...   \n",
       "2435        2435   145935  Charlie Brown, Lucy, Snoopy, and the whole gan...   \n",
       "2436        2436   146114  Raju is a joker, a clown. It is what he is and...   \n",
       "2437        2437   146427  On their way to find Paris, Sture the dog (Has...   \n",
       "2438        2438   146684  Scrat's epic pursuit of the elusive acorn cata...   \n",
       "2440        2440   147781  Mourning the loss of her brother/collaborator,...   \n",
       "2441        2441   148382  A modern Cinderella in Paris: While the plain ...   \n",
       "2443        2443   148618  Three kids who travel back in time to 65 milli...   \n",
       "2444        2444   148624  Top Cat and the gang face a new police chief, ...   \n",
       "2445        2445   149088  Raggedy Ann and the rest of the toys in Marcel...   \n",
       "2446        2446   149406  Continuing his \"legendary adventures of awesom...   \n",
       "2447        2447   151451  A romance fantasy humorous situations cleverly...   \n",
       "\n",
       "            tag  \n",
       "0     animation  \n",
       "1       fantasy  \n",
       "2        comedy  \n",
       "3        action  \n",
       "4       romance  \n",
       "5        action  \n",
       "6        action  \n",
       "7        action  \n",
       "8       romance  \n",
       "9        comedy  \n",
       "10       comedy  \n",
       "11       sci-fi  \n",
       "12       sci-fi  \n",
       "13      fantasy  \n",
       "14      romance  \n",
       "15       action  \n",
       "16    animation  \n",
       "17       comedy  \n",
       "18       comedy  \n",
       "19       comedy  \n",
       "20       action  \n",
       "21       sci-fi  \n",
       "22      fantasy  \n",
       "23       comedy  \n",
       "24       action  \n",
       "25       comedy  \n",
       "26      romance  \n",
       "27       action  \n",
       "28       comedy  \n",
       "29       action  \n",
       "...         ...  \n",
       "2415     sci-fi  \n",
       "2416     comedy  \n",
       "2417     action  \n",
       "2418  animation  \n",
       "2419  animation  \n",
       "2420  animation  \n",
       "2421  animation  \n",
       "2423  animation  \n",
       "2424  animation  \n",
       "2425  animation  \n",
       "2426     action  \n",
       "2427  animation  \n",
       "2428  animation  \n",
       "2429    romance  \n",
       "2430    fantasy  \n",
       "2431     action  \n",
       "2432     comedy  \n",
       "2433     comedy  \n",
       "2434     sci-fi  \n",
       "2435  animation  \n",
       "2436    romance  \n",
       "2437  animation  \n",
       "2438  animation  \n",
       "2440     action  \n",
       "2441    romance  \n",
       "2443  animation  \n",
       "2444  animation  \n",
       "2445  animation  \n",
       "2446     comedy  \n",
       "2447    romance  \n",
       "\n",
       "[2427 rows x 4 columns]"
      ]
     },
     "execution_count": 11,
     "metadata": {},
     "output_type": "execute_result"
    }
   ],
   "source": [
    "df\n"
   ]
  },
  {
   "cell_type": "code",
   "execution_count": 13,
   "metadata": {
    "collapsed": false,
    "slideshow": {
     "slide_type": "skip"
    }
   },
   "outputs": [],
   "source": [
    "def print_plot(index):\n",
    "    example = df[df.index == index][['plot', 'tag']].values[0]\n",
    "    if len(example) > 0:\n",
    "        print(example[0])\n",
    "        print('Genre:', example[1])"
   ]
  },
  {
   "cell_type": "code",
   "execution_count": 14,
   "metadata": {
    "collapsed": false,
    "slideshow": {
     "slide_type": "slide"
    }
   },
   "outputs": [
    {
     "name": "stdout",
     "output_type": "stream",
     "text": [
      "In a future world devastated by disease, a convict is sent back in time to gather information about the man-made virus that wiped out most of the human population on the planet.\n",
      "('Genre:', 'sci-fi')\n"
     ]
    }
   ],
   "source": [
    "print_plot(12)"
   ]
  },
  {
   "cell_type": "code",
   "execution_count": 15,
   "metadata": {
    "collapsed": false,
    "slideshow": {
     "slide_type": "fragment"
    }
   },
   "outputs": [
    {
     "name": "stdout",
     "output_type": "stream",
     "text": [
      "Based on the popular video game of the same name \"Mortal Kombat\" tells the story of an ancient tournament where the best of the best of different Realms fight each other. The goal - ten wins to be able to legally invade the losing Realm. Outworld has so far collected nine wins against Earthrealm, so it's up to Lord Rayden and his fighters to stop Outworld from reaching the final victory...\n",
      "('Genre:', 'action')\n"
     ]
    }
   ],
   "source": [
    "print_plot(15)"
   ]
  },
  {
   "cell_type": "markdown",
   "metadata": {
    "slideshow": {
     "slide_type": "slide"
    }
   },
   "source": [
    "Train/test split of 90/10"
   ]
  },
  {
   "cell_type": "code",
   "execution_count": 11,
   "metadata": {
    "collapsed": true
   },
   "outputs": [],
   "source": [
    "train_data, test_data = train_test_split(df, test_size=0.1, random_state=42)"
   ]
  },
  {
   "cell_type": "code",
   "execution_count": 14,
   "metadata": {
    "collapsed": false,
    "slideshow": {
     "slide_type": "slide"
    }
   },
   "outputs": [
    {
     "data": {
      "text/plain": [
       "243"
      ]
     },
     "execution_count": 14,
     "metadata": {},
     "output_type": "execute_result"
    }
   ],
   "source": [
    "len(test_data)"
   ]
  },
  {
   "cell_type": "code",
   "execution_count": 13,
   "metadata": {
    "collapsed": false
   },
   "outputs": [
    {
     "data": {
      "text/plain": [
       "<matplotlib.axes._subplots.AxesSubplot at 0x7faa205dfcd0>"
      ]
     },
     "execution_count": 13,
     "metadata": {},
     "output_type": "execute_result"
    },
    {
     "data": {
      "image/png": "[encoded data removed]",
      "text/plain": [
       "<matplotlib.figure.Figure at 0x7faa205bdd50>"
      ]
     },
     "metadata": {},
     "output_type": "display_data"
    }
   ],
   "source": [
    "test_data.tag.value_counts().plot(kind=\"bar\", rot=0)"
   ]
  },
  {
   "cell_type": "markdown",
   "metadata": {},
   "source": [
    "## Model evaluation approach\n",
    "We will use confusion matrices to evaluate all classifiers"
   ]
  },
  {
   "cell_type": "code",
   "execution_count": 27,
   "metadata": {
    "collapsed": false,
    "slideshow": {
     "slide_type": "skip"
    }
   },
   "outputs": [],
   "source": [
    "def plot_confusion_matrix(cm, title='Confusion matrix', cmap=plt.cm.Blues):\n",
    "    plt.imshow(cm, interpolation='nearest', cmap=cmap)\n",
    "    plt.title(title)\n",
    "    plt.colorbar()\n",
    "    tick_marks = np.arange(len(my_tags))\n",
    "    target_names = my_tags\n",
    "    plt.xticks(tick_marks, target_names, rotation=45)\n",
    "    plt.yticks(tick_marks, target_names)\n",
    "    plt.tight_layout()\n",
    "    plt.ylabel('True label')\n",
    "    plt.xlabel('Predicted label')"
   ]
  },
  {
   "cell_type": "code",
   "execution_count": 28,
   "metadata": {
    "collapsed": true
   },
   "outputs": [],
   "source": [
    "def evaluate_prediction(predictions, target, title=\"Confusion matrix\"):\n",
    "    print('accuracy %s' % accuracy_score(target, predictions))\n",
    "    cm = confusion_matrix(target, predictions)\n",
    "    print('confusion matrix\\n %s' % cm)\n",
    "    print('(row=expected, col=predicted)')\n",
    "    \n",
    "    cm_normalized = cm.astype('float') / cm.sum(axis=1)[:, np.newaxis]\n",
    "    plot_confusion_matrix(cm_normalized, title + ' Normalized')"
   ]
  },
  {
   "cell_type": "code",
   "execution_count": 29,
   "metadata": {
    "collapsed": true
   },
   "outputs": [],
   "source": [
    "def predict(vectorizer, classifier, data):\n",
    "    data_features = vectorizer.transform(data['plot'])\n",
    "    predictions = classifier.predict(data_features)\n",
    "    target = data['tag']\n",
    "    evaluate_prediction(predictions, target)"
   ]
  },
  {
   "cell_type": "markdown",
   "metadata": {},
   "source": [
    "## Baseline: bag of words, n-grams, tf-idf\n",
    "Let's start with some simple baselines before diving into more advanced methods."
   ]
  },
  {
   "cell_type": "markdown",
   "metadata": {},
   "source": [
    "### Bag of words"
   ]
  },
  {
   "cell_type": "markdown",
   "metadata": {},
   "source": [
    "The simplest document feature is just a count of each word occurrence in a document.\n",
    "\n",
    "We remove stop-words and use NLTK tokenizer then limit our vocabulary to 3k most frequent words."
   ]
  },
  {
   "cell_type": "code",
   "execution_count": 30,
   "metadata": {
    "collapsed": true
   },
   "outputs": [],
   "source": [
    "def tokenize_text(text):\n",
    "    tokens = []\n",
    "    for sent in nltk.sent_tokenize(text):\n",
    "        for word in nltk.word_tokenize(sent):\n",
    "            if len(word) < 2:\n",
    "                continue\n",
    "            tokens.append(word.lower())\n",
    "    return tokens"
   ]
  },
  {
   "cell_type": "code",
   "execution_count": 31,
   "metadata": {
    "collapsed": false
   },
   "outputs": [
    {
     "name": "stdout",
     "output_type": "stream",
     "text": [
      "CPU times: user 1.93 s, sys: 1.55 ms, total: 1.93 s\n",
      "Wall time: 1.94 s\n"
     ]
    }
   ],
   "source": [
    "%%time\n",
    "# training\n",
    "count_vectorizer = CountVectorizer(\n",
    "    analyzer=\"word\", tokenizer=nltk.word_tokenize,\n",
    "    preprocessor=None, stop_words='english', max_features=3000) \n",
    "train_data_features = count_vectorizer.fit_transform(train_data['plot'])"
   ]
  },
  {
   "cell_type": "markdown",
   "metadata": {},
   "source": [
    "Multi-modal logistic regression is a simple white-box classifier. We will use either logistic regression or KNN throughout this tutorial."
   ]
  },
  {
   "cell_type": "code",
   "execution_count": 32,
   "metadata": {
    "collapsed": false
   },
   "outputs": [
    {
     "name": "stdout",
     "output_type": "stream",
     "text": [
      "CPU times: user 297 ms, sys: 0 ns, total: 297 ms\n",
      "Wall time: 297 ms\n"
     ]
    }
   ],
   "source": [
    "%%time\n",
    "\n",
    "logreg = linear_model.LogisticRegression(n_jobs=1, C=1e5)\n",
    "logreg = logreg.fit(train_data_features, train_data['tag'])"
   ]
  },
  {
   "cell_type": "code",
   "execution_count": 33,
   "metadata": {
    "collapsed": false
   },
   "outputs": [
    {
     "data": {
      "text/plain": [
       "[u'adventure',\n",
       " u'adventures',\n",
       " u'adventurous',\n",
       " u'advice',\n",
       " u'affair',\n",
       " u'affairs',\n",
       " u'affect',\n",
       " u'afraid',\n",
       " u'africa',\n",
       " u'african']"
      ]
     },
     "execution_count": 33,
     "metadata": {},
     "output_type": "execute_result"
    }
   ],
   "source": [
    "count_vectorizer.get_feature_names()[80:90]"
   ]
  },
  {
   "cell_type": "markdown",
   "metadata": {},
   "source": [
    "Nothing impressive - only 2% better better than the classifier that thinks that everything is a comedy."
   ]
  },
  {
   "cell_type": "code",
   "execution_count": 34,
   "metadata": {
    "collapsed": false
   },
   "outputs": [
    {
     "name": "stdout",
     "output_type": "stream",
     "text": [
      "accuracy 0.41975308642\n",
      "confusion matrix\n",
      " [[21  3  9  1  4  4]\n",
      " [ 3 11  8  1  3  5]\n",
      " [ 9 12 44  3 16  2]\n",
      " [ 2  6  2  3  2  1]\n",
      " [ 1  3 16  2 11  2]\n",
      " [ 8  5  6  2  0 12]]\n",
      "(row=expected, col=predicted)\n",
      "CPU times: user 400 ms, sys: 63.4 ms, total: 463 ms\n",
      "Wall time: 400 ms\n"
     ]
    },
    {
     "data": {
      "image/png": "[encoded data removed]",
      "text/plain": [
       "<matplotlib.figure.Figure at 0x7faa1e3cead0>"
      ]
     },
     "metadata": {},
     "output_type": "display_data"
    }
   ],
   "source": [
    "%%time\n",
    "\n",
    "predict(count_vectorizer, logreg, test_data)"
   ]
  },
  {
   "cell_type": "markdown",
   "metadata": {},
   "source": [
    "White box vectorizer and classifier are great! We can see what are the most important words for sci-fi. This makes it very easy to tune and debug."
   ]
  },
  {
   "cell_type": "code",
   "execution_count": 35,
   "metadata": {
    "collapsed": false
   },
   "outputs": [],
   "source": [
    "def most_influential_words(vectorizer, genre_index=0, num_words=10):\n",
    "    features = vectorizer.get_feature_names()\n",
    "    max_coef = sorted(enumerate(logreg.coef_[genre_index]), key=lambda x:x[1], reverse=True)\n",
    "    return [features[x[0]] for x in max_coef[:num_words]]    "
   ]
  },
  {
   "cell_type": "code",
   "execution_count": 37,
   "metadata": {
    "collapsed": false
   },
   "outputs": [
    {
     "name": "stdout",
     "output_type": "stream",
     "text": [
      "action\n"
     ]
    },
    {
     "data": {
      "text/plain": [
       "[u'fight',\n",
       " u'animation',\n",
       " u'ending',\n",
       " u'adventurous',\n",
       " u'halloween',\n",
       " u'tale',\n",
       " u'forest',\n",
       " u'adventure',\n",
       " u'toys',\n",
       " u'taken']"
      ]
     },
     "execution_count": 37,
     "metadata": {},
     "output_type": "execute_result"
    }
   ],
   "source": [
    "# words for the fantasy genre\n",
    "fantasy_tag_id = 1\n",
    "print(my_tags[fantasy_tag_id])\n",
    "most_influential_words(count_vectorizer, fantasy_tag_id)"
   ]
  },
  {
   "cell_type": "code",
   "execution_count": 38,
   "metadata": {
    "collapsed": false
   },
   "outputs": [
    {
     "data": {
      "text/plain": [
       "<1x3000 sparse matrix of type '<type 'numpy.int64'>'\n",
       "\twith 44 stored elements in Compressed Sparse Row format>"
      ]
     },
     "execution_count": 38,
     "metadata": {},
     "output_type": "execute_result"
    }
   ],
   "source": [
    "train_data_features[0]"
   ]
  },
  {
   "cell_type": "markdown",
   "metadata": {},
   "source": [
    "### Character N-grams"
   ]
  },
  {
   "cell_type": "markdown",
   "metadata": {},
   "source": [
    "A character _n-gram_ is a chunk of a document of length _n_. It is a poor man's tokenizer but sometimes works well. The parameter _n_ depends on language and the corpus. We choose length between 3 and 6 characters and to only focus on 3k most popular ones."
   ]
  },
  {
   "cell_type": "code",
   "execution_count": 43,
   "metadata": {
    "collapsed": false
   },
   "outputs": [
    {
     "name": "stdout",
     "output_type": "stream",
     "text": [
      "CPU times: user 9.86 s, sys: 58.6 ms, total: 9.92 s\n",
      "Wall time: 9.91 s\n"
     ]
    }
   ],
   "source": [
    "%%time\n",
    "n_gram_vectorizer = CountVectorizer(\n",
    "    analyzer=\"char\",\n",
    "    ngram_range=([2,5]),\n",
    "    tokenizer=None,    \n",
    "    preprocessor=None,                               \n",
    "    max_features=3000) \n",
    "\n",
    "logreg = linear_model.LogisticRegression(n_jobs=1, C=1e5)\n",
    "\n",
    "train_data_features = n_gram_vectorizer.fit_transform(train_data['plot'])\n",
    "\n",
    "logreg = logreg.fit(train_data_features, train_data['tag'])"
   ]
  },
  {
   "cell_type": "code",
   "execution_count": 44,
   "metadata": {
    "collapsed": false
   },
   "outputs": [
    {
     "data": {
      "text/plain": [
       "[u' are ',\n",
       " u' as',\n",
       " u' as ',\n",
       " u' as a',\n",
       " u' as t',\n",
       " u' ass',\n",
       " u' at',\n",
       " u' at ',\n",
       " u' at t',\n",
       " u' att']"
      ]
     },
     "execution_count": 44,
     "metadata": {},
     "output_type": "execute_result"
    }
   ],
   "source": [
    "n_gram_vectorizer.get_feature_names()[50:60]"
   ]
  },
  {
   "cell_type": "markdown",
   "metadata": {},
   "source": [
    "The results are worse than using a tokenizer and bag of words. Probably due to not removing the stop words."
   ]
  },
  {
   "cell_type": "code",
   "execution_count": 45,
   "metadata": {
    "collapsed": false
   },
   "outputs": [
    {
     "name": "stdout",
     "output_type": "stream",
     "text": [
      "accuracy 0.390946502058\n",
      "confusion matrix\n",
      " [[17  3 12  1  5  4]\n",
      " [ 4  9 10  3  1  4]\n",
      " [12 11 40  5 16  2]\n",
      " [ 2  1  2  5  1  5]\n",
      " [ 5  1 16  1 10  2]\n",
      " [ 9  1  7  2  0 14]]\n",
      "(row=expected, col=predicted)\n"
     ]
    },
    {
     "data": {
      "image/png": "[encoded data removed]",
      "text/plain": [
       "<matplotlib.figure.Figure at 0x7faa1dec1690>"
      ]
     },
     "metadata": {},
     "output_type": "display_data"
    }
   ],
   "source": [
    "predict(n_gram_vectorizer, logreg, test_data)"
   ]
  },
  {
   "cell_type": "markdown",
   "metadata": {},
   "source": [
    "### TF-IDF\n",
    "\n",
    "[Term Frequency - Inverse Document Frequency](https://en.wikipedia.org/wiki/Tf%E2%80%93idf) is a little more advanced way to count words in a document.\n",
    "It adjusts for document length, word frequency and most importantly for frequency of a particular word in a particular document.\n"
   ]
  },
  {
   "cell_type": "code",
   "execution_count": 53,
   "metadata": {
    "collapsed": false,
    "scrolled": true
   },
   "outputs": [
    {
     "name": "stdout",
     "output_type": "stream",
     "text": [
      "CPU times: user 1.83 s, sys: 7.97 ms, total: 1.84 s\n",
      "Wall time: 1.83 s\n"
     ]
    }
   ],
   "source": [
    "%%time\n",
    "tf_vect = TfidfVectorizer(\n",
    "    min_df=2, tokenizer=nltk.word_tokenize,\n",
    "    preprocessor=None, stop_words='english')\n",
    "train_data_features = tf_vect.fit_transform(train_data['plot'])\n",
    "\n",
    "logreg = linear_model.LogisticRegression(n_jobs=1, C=1e5)\n",
    "logreg = logreg.fit(train_data_features, train_data['tag'])"
   ]
  },
  {
   "cell_type": "code",
   "execution_count": 54,
   "metadata": {
    "collapsed": false
   },
   "outputs": [
    {
     "data": {
      "text/plain": [
       "[u'caesar',\n",
       " u'cage',\n",
       " u'caine',\n",
       " u'cal',\n",
       " u'calhoun',\n",
       " u'california',\n",
       " u'californians',\n",
       " u'called',\n",
       " u'calling',\n",
       " u'callous']"
      ]
     },
     "execution_count": 54,
     "metadata": {},
     "output_type": "execute_result"
    }
   ],
   "source": [
    "tf_vect.get_feature_names()[1000:1010]"
   ]
  },
  {
   "cell_type": "code",
   "execution_count": 48,
   "metadata": {
    "collapsed": false
   },
   "outputs": [
    {
     "name": "stdout",
     "output_type": "stream",
     "text": [
      "accuracy 0.465020576132\n",
      "confusion matrix\n",
      " [[23  2 12  2  2  1]\n",
      " [ 3 10 10  1  3  4]\n",
      " [ 9  6 49  0 21  1]\n",
      " [ 3  4  1  4  2  2]\n",
      " [ 1  2 20  0 11  1]\n",
      " [ 9  2  5  1  0 16]]\n",
      "(row=expected, col=predicted)\n"
     ]
    },
    {
     "data": {
      "image/png": "[encoded data removed]",
      "text/plain": [
       "<matplotlib.figure.Figure at 0x7faa1d171f50>"
      ]
     },
     "metadata": {},
     "output_type": "display_data"
    }
   ],
   "source": [
    "predict(tf_vect, logreg, test_data)"
   ]
  },
  {
   "cell_type": "markdown",
   "metadata": {},
   "source": [
    "White box vectorizer and classifier are great! We can see what are the most important words for sci-fi. This makes it very easy to tune and debug."
   ]
  },
  {
   "cell_type": "code",
   "execution_count": 60,
   "metadata": {
    "collapsed": false
   },
   "outputs": [
    {
     "data": {
      "text/plain": [
       "[u'halloween',\n",
       " u'adventurous',\n",
       " u'animated',\n",
       " u'animals',\n",
       " u'tale',\n",
       " u'taken',\n",
       " u'forest',\n",
       " u'anna',\n",
       " u'adventure',\n",
       " u'prince']"
      ]
     },
     "execution_count": 60,
     "metadata": {},
     "output_type": "execute_result"
    }
   ],
   "source": [
    "most_influential_words(tf_vect, 1)"
   ]
  },
  {
   "cell_type": "markdown",
   "metadata": {},
   "source": [
    "### Things to try with bag of words\n",
    "Try n-grams with TF-IDF.\n",
    "\n",
    "For more insight into the model print out the most influential words for a particular plot."
   ]
  },
  {
   "cell_type": "markdown",
   "metadata": {},
   "source": [
    "# Averaging word vectors"
   ]
  },
  {
   "cell_type": "markdown",
   "metadata": {},
   "source": [
    "Now let's use more complex features rather than just counting words.\n",
    "\n",
    "A great recent achievement of NLP is the [word2vec embedding](https://papers.nips.cc/paper/5021-distributed-representations-of-words-and-phrases-and-their-compositionality.pdf). See Chris Moody's [video](https://www.youtube.com/watch?v=vkfXBGnDplQ) for a great introduction to word2vec. \n"
   ]
  },
  {
   "cell_type": "markdown",
   "metadata": {},
   "source": [
    "First we load a word2vec model. It has been pre-trained by Google on a 100 billon word Google News corpus. You can play with this model using a fun [web-app](http://rare-technologies.com/word2vec-tutorial/#app).\n",
    "\n",
    "Vocabulary size: 3 mln words. \n",
    "\n",
    "__Warning__: 3 mins to load, takes 4 GB of RAM."
   ]
  },
  {
   "cell_type": "code",
   "execution_count": 61,
   "metadata": {
    "collapsed": false
   },
   "outputs": [
    {
     "name": "stderr",
     "output_type": "stream",
     "text": [
      "2016-10-15 13:43:05,008 : INFO : loading projection weights from /data/w2v_googlenews/GoogleNews-vectors-negative300.bin.gz\n",
      "2016-10-15 13:46:13,189 : INFO : loaded (3000000, 300) matrix from /data/w2v_googlenews/GoogleNews-vectors-negative300.bin.gz\n",
      "2016-10-15 13:46:13,190 : INFO : precomputing L2-norms of word weight vectors\n"
     ]
    },
    {
     "name": "stdout",
     "output_type": "stream",
     "text": [
      "CPU times: user 3min 23s, sys: 3.05 s, total: 3min 26s\n",
      "Wall time: 3min 27s\n"
     ]
    }
   ],
   "source": [
    "%%time \n",
    "wv = Word2Vec.load_word2vec_format(\n",
    "    \"/data/w2v_googlenews/GoogleNews-vectors-negative300.bin.gz\",\n",
    "    binary=True)\n",
    "wv.init_sims(replace=True)"
   ]
  },
  {
   "cell_type": "markdown",
   "metadata": {},
   "source": [
    "Example vocabulary"
   ]
  },
  {
   "cell_type": "code",
   "execution_count": 64,
   "metadata": {
    "collapsed": false
   },
   "outputs": [
    {
     "data": {
      "text/plain": [
       "[u'slang',\n",
       " u'Murtuza',\n",
       " u'padlock',\n",
       " u'Daniel_Gotlin',\n",
       " u'Moreland_Hills',\n",
       " u'HR_Generalist',\n",
       " u'violate_Simone_Celestin',\n",
       " u'SS_FINISHED',\n",
       " u'symbol_USBI',\n",
       " u'@_Sulekha_Movies',\n",
       " u'unhonored',\n",
       " u'Rufai_Alkali',\n",
       " u'SinoCast_via',\n",
       " u'Shengshui_Temple_Kindergarten',\n",
       " u'AmericanTowns',\n",
       " u'Omtool_undertakes',\n",
       " u'Pembleton',\n",
       " u'ArenaBowl_XXII',\n",
       " u'Waltons',\n",
       " u'sleeper_timbers']"
      ]
     },
     "execution_count": 64,
     "metadata": {},
     "output_type": "execute_result"
    }
   ],
   "source": [
    "from itertools import islice\n",
    "list(islice(wv.vocab, 13000, 13020))"
   ]
  },
  {
   "cell_type": "markdown",
   "metadata": {},
   "source": [
    "Now we have a vector for each word. How do we get a vector for a sequence of words (aka a document)?\n",
    "\n",
    "\n",
    "The most naive way is just to take an average. [Mike Tamir](https://www.youtube.com/watch?v=7gTjYwiaJiU) has suggested that the resulting vector points to a single word summarising the whole document. For example all words in a book\n",
    " ‘A tale of two cities’ should add up to 'class-struggle’"
   ]
  },
  {
   "cell_type": "markdown",
   "metadata": {},
   "source": [
    "<img src=\"images/naivedoc2vec.png\">"
   ]
  },
  {
   "cell_type": "code",
   "execution_count": 65,
   "metadata": {
    "collapsed": true
   },
   "outputs": [],
   "source": [
    "\n",
    "def word_averaging(wv, words):\n",
    "    all_words, mean = set(), []\n",
    "    \n",
    "    for word in words:\n",
    "        if isinstance(word, np.ndarray):\n",
    "            mean.append(word)\n",
    "        elif word in wv.vocab:\n",
    "            mean.append(wv.syn0norm[wv.vocab[word].index])\n",
    "            all_words.add(wv.vocab[word].index)\n",
    "\n",
    "    if not mean:\n",
    "        logging.warning(\"cannot compute similarity with no input %s\", words)\n",
    "        # FIXME: remove these examples in pre-processing\n",
    "        return np.zeros(wv.layer_size,)\n",
    "\n",
    "    mean = gensim.matutils.unitvec(np.array(mean).mean(axis=0)).astype(np.float32)\n",
    "    return mean\n",
    "\n",
    "def  word_averaging_list(wv, text_list):\n",
    "    return np.vstack([word_averaging(wv, review) for review in text_list ])"
   ]
  },
  {
   "cell_type": "markdown",
   "metadata": {},
   "source": [
    "For word2vec we apply a different tokenization. We want to preserve case as the vocabulary distingushes lower and upper case."
   ]
  },
  {
   "cell_type": "code",
   "execution_count": 88,
   "metadata": {
    "collapsed": true
   },
   "outputs": [],
   "source": [
    "def w2v_tokenize_text(text):\n",
    "    tokens = []\n",
    "    for sent in nltk.sent_tokenize(text, language='english'):\n",
    "        for word in nltk.word_tokenize(sent, language='english'):\n",
    "            if len(word) < 2:\n",
    "                continue\n",
    "            tokens.append(word)\n",
    "    return tokens"
   ]
  },
  {
   "cell_type": "code",
   "execution_count": 89,
   "metadata": {
    "collapsed": false
   },
   "outputs": [],
   "source": [
    "test_tokenized = test_data.apply(lambda r: w2v_tokenize_text(r['plot']), axis=1).values\n",
    "train_tokenized = train_data.apply(lambda r: w2v_tokenize_text(r['plot']), axis=1).values"
   ]
  },
  {
   "cell_type": "code",
   "execution_count": 90,
   "metadata": {
    "collapsed": false
   },
   "outputs": [
    {
     "name": "stdout",
     "output_type": "stream",
     "text": [
      "CPU times: user 492 ms, sys: 978 µs, total: 493 ms\n",
      "Wall time: 492 ms\n"
     ]
    }
   ],
   "source": [
    "%%time\n",
    "X_train_word_average = word_averaging_list(wv,train_tokenized)\n",
    "X_test_word_average = word_averaging_list(wv,test_tokenized)"
   ]
  },
  {
   "cell_type": "markdown",
   "metadata": {},
   "source": [
    "Let's see how KNN and logistic regression classifiers perform on these word-averaging document features."
   ]
  },
  {
   "cell_type": "code",
   "execution_count": 91,
   "metadata": {
    "collapsed": false
   },
   "outputs": [
    {
     "name": "stdout",
     "output_type": "stream",
     "text": [
      "CPU times: user 3.35 ms, sys: 14 µs, total: 3.37 ms\n",
      "Wall time: 3.11 ms\n"
     ]
    }
   ],
   "source": [
    "%%time\n",
    "knn_naive_dv = KNeighborsClassifier(n_neighbors=3, n_jobs=1, algorithm='brute', metric='cosine' )\n",
    "knn_naive_dv.fit(X_train_word_average, train_data.tag)\n"
   ]
  },
  {
   "cell_type": "code",
   "execution_count": 92,
   "metadata": {
    "collapsed": false
   },
   "outputs": [
    {
     "name": "stdout",
     "output_type": "stream",
     "text": [
      "CPU times: user 48.1 ms, sys: 49 ms, total: 97 ms\n",
      "Wall time: 40.6 ms\n"
     ]
    }
   ],
   "source": [
    "%%time\n",
    "predicted = knn_naive_dv.predict(X_test_word_average)"
   ]
  },
  {
   "cell_type": "code",
   "execution_count": 93,
   "metadata": {
    "collapsed": false
   },
   "outputs": [
    {
     "name": "stdout",
     "output_type": "stream",
     "text": [
      "accuracy 0.38683127572\n",
      "confusion matrix\n",
      " [[22  4  6  1  6  3]\n",
      " [ 9  4  9  4  5  0]\n",
      " [18  4 44  3 13  4]\n",
      " [ 7  3  1  2  1  2]\n",
      " [13  0  9  1 11  1]\n",
      " [13  2  1  4  2 11]]\n",
      "(row=expected, col=predicted)\n"
     ]
    },
    {
     "data": {
      "image/png": "[encoded data removed]",
      "text/plain": [
       "<matplotlib.figure.Figure at 0x7faa1aadf550>"
      ]
     },
     "metadata": {},
     "output_type": "display_data"
    }
   ],
   "source": [
    "evaluate_prediction(predicted, test_data.tag)"
   ]
  },
  {
   "cell_type": "markdown",
   "metadata": {},
   "source": [
    "KNN is even worse than the naive 'everything is comedy' baseline! Let's see if logistic regression is better."
   ]
  },
  {
   "cell_type": "code",
   "execution_count": 94,
   "metadata": {
    "collapsed": false
   },
   "outputs": [
    {
     "name": "stdout",
     "output_type": "stream",
     "text": [
      "CPU times: user 1.88 s, sys: 53.1 ms, total: 1.93 s\n",
      "Wall time: 1.89 s\n"
     ]
    }
   ],
   "source": [
    "%%time\n",
    "logreg = linear_model.LogisticRegression(n_jobs=1, C=1e5)\n",
    "\n",
    "logreg = logreg.fit(X_train_word_average, train_data['tag'])\n",
    "predicted = logreg.predict(X_test_word_average)"
   ]
  },
  {
   "cell_type": "markdown",
   "metadata": {},
   "source": [
    "Great! It gives __54%__ accuracy. Best that we have seen so far."
   ]
  },
  {
   "cell_type": "code",
   "execution_count": 95,
   "metadata": {
    "collapsed": false
   },
   "outputs": [
    {
     "name": "stdout",
     "output_type": "stream",
     "text": [
      "accuracy 0.547325102881\n",
      "confusion matrix\n",
      " [[23  3 11  2  1  2]\n",
      " [ 4 10  7  3  3  4]\n",
      " [ 2  4 59  3 15  3]\n",
      " [ 2  1  2  7  0  4]\n",
      " [ 3  1 14  1 14  2]\n",
      " [ 5  0  4  2  2 20]]\n",
      "(row=expected, col=predicted)\n"
     ]
    },
    {
     "data": {
      "image/png": "[encoded data removed]",
      "text/plain": [
       "<matplotlib.figure.Figure at 0x7fa9167ede10>"
      ]
     },
     "metadata": {},
     "output_type": "display_data"
    }
   ],
   "source": [
    "evaluate_prediction(predicted, test_data.tag)"
   ]
  },
  {
   "cell_type": "markdown",
   "metadata": {},
   "source": [
    "Now just for fun let's see if text summarisation works on our data. Let's pick a plot and see which words it averages to."
   ]
  },
  {
   "cell_type": "code",
   "execution_count": 96,
   "metadata": {
    "collapsed": false,
    "scrolled": true
   },
   "outputs": [
    {
     "data": {
      "text/plain": [
       "'Scruffy but irresistibly attractive Yau Muk-yan, without a job or a place to live, moves in with sensitive, shy piano tuner Chan Kar-fu. Both are disturbed, then obsessed, by the amateurish piano playing of upstairs neighbour Mok Man-yee. Obsession turns to romance, and romance to fantasy. The film is structured in four \"movements\": two themes (Yau Muk-yan, Mok Man-yee), a duet (Yau Muk-yan & Mok Man-yee), and a set of variations (a wild fantasy of Chan Kar-fu in his new novel).'"
      ]
     },
     "execution_count": 96,
     "metadata": {},
     "output_type": "execute_result"
    }
   ],
   "source": [
    "test_data.iloc()[56]['plot']"
   ]
  },
  {
   "cell_type": "markdown",
   "metadata": {},
   "source": [
    "Hmm... The summarisation doesn't work here. Any ideas why? Hint: look at the area where the average ends up."
   ]
  },
  {
   "cell_type": "code",
   "execution_count": 97,
   "metadata": {
    "collapsed": false
   },
   "outputs": [
    {
     "data": {
      "text/plain": [
       "[(u'just', 0.5038168430328369),\n",
       " (u'but', 0.5023055076599121),\n",
       " (u'in', 0.49800050258636475),\n",
       " (u'the', 0.4957137107849121),\n",
       " (u'so', 0.4889165759086609),\n",
       " (u'actually', 0.4778650999069214),\n",
       " (u'By_TBT_staff', 0.4743911623954773),\n",
       " (u'even', 0.47195717692375183),\n",
       " (u'really', 0.4685917794704437),\n",
       " (u'anyway', 0.4660709500312805),\n",
       " (u'vice_versa', 0.45745164155960083),\n",
       " (u'one', 0.4536522626876831),\n",
       " (u'sort', 0.4488521218299866),\n",
       " (u'that', 0.4462577700614929),\n",
       " (u'dreamy', 0.44418084621429443),\n",
       " (u'You_EIG', 0.44372493028640747),\n",
       " (u'kind', 0.442863404750824),\n",
       " (u'then', 0.44108718633651733),\n",
       " (u'obviously', 0.4360683262348175),\n",
       " (u'Chan', 0.43542975187301636)]"
      ]
     },
     "execution_count": 97,
     "metadata": {},
     "output_type": "execute_result"
    }
   ],
   "source": [
    "wv.most_similar(positive=[X_test_word_average[56]], restrict_vocab=100000, topn=30)[0:20]"
   ]
  },
  {
   "cell_type": "markdown",
   "metadata": {
    "collapsed": true
   },
   "source": [
    "### Word2vec things to try"
   ]
  },
  {
   "cell_type": "markdown",
   "metadata": {},
   "source": [
    "Experiment with other pre-trained models - see nice [list](https://github.com/3Top/word2vec-api/) from 3Top. Use Gensim's GloVe converter. Remove stop-words. Do IDF weighting in the averaging function."
   ]
  },
  {
   "cell_type": "markdown",
   "metadata": {},
   "source": [
    "# Doc2Vec"
   ]
  },
  {
   "cell_type": "markdown",
   "metadata": {},
   "source": [
    "A [paper](https://cs.stanford.edu/~quocle/paragraph_vector.pdf) by Google suggests a model for document classification called Paragraph Vectors Doc2Vec or Doc2vec in short. It is very similar to word2vec. \n",
    "\n",
    "It introduces 'a tag' - a word that is in every context in the document.\n",
    "\n",
    "For our first try we tag every plot with its genre. This makes it 'semi-supervised' learning - the genre labels is just one objective among many."
   ]
  },
  {
   "cell_type": "code",
   "execution_count": 98,
   "metadata": {
    "collapsed": false
   },
   "outputs": [],
   "source": [
    "from gensim.models import Doc2Vec\n",
    "from gensim.models.doc2vec import TaggedDocument"
   ]
  },
  {
   "cell_type": "code",
   "execution_count": 99,
   "metadata": {
    "collapsed": false
   },
   "outputs": [],
   "source": [
    "train_tagged = train_data.apply(\n",
    "    lambda r: TaggedDocument(words=tokenize_text(r['plot']), tags=[r.tag]), axis=1)"
   ]
  },
  {
   "cell_type": "code",
   "execution_count": 100,
   "metadata": {
    "collapsed": true
   },
   "outputs": [],
   "source": [
    "test_tagged = test_data.apply(\n",
    "    lambda r: TaggedDocument(words=tokenize_text(r['plot']), tags=[r.tag]), axis=1)"
   ]
  },
  {
   "cell_type": "markdown",
   "metadata": {},
   "source": [
    "This is what a training entry looks like - an example plot tagged by 'sci-fi'."
   ]
  },
  {
   "cell_type": "code",
   "execution_count": 101,
   "metadata": {
    "collapsed": false
   },
   "outputs": [
    {
     "data": {
      "text/plain": [
       "TaggedDocument(words=['troubled', 'psychologist', 'is', 'sent', 'to', 'investigate', 'the', 'crew', 'of', 'an', 'isolated', 'research', 'station', 'orbiting', 'bizarre', 'planet'], tags=['sci-fi'])"
      ]
     },
     "execution_count": 101,
     "metadata": {},
     "output_type": "execute_result"
    }
   ],
   "source": [
    "test_tagged.values[50]"
   ]
  },
  {
   "cell_type": "code",
   "execution_count": 109,
   "metadata": {
    "collapsed": false
   },
   "outputs": [
    {
     "name": "stderr",
     "output_type": "stream",
     "text": [
      "2016-10-15 14:00:11,614 : WARNING : consider setting layer size to a multiple of 4 for greater performance\n",
      "2016-10-15 14:00:11,615 : INFO : collecting all words and their counts\n",
      "2016-10-15 14:00:11,615 : INFO : PROGRESS: at example #0, processed 0 words (0/s), 0 word types, 0 tags\n",
      "2016-10-15 14:00:11,666 : INFO : collected 17168 word types and 6 unique tags from a corpus of 2184 examples and 150640 words\n",
      "2016-10-15 14:00:11,682 : INFO : min_count=5 retains 3631 unique words (21% of original 17168, drops 13537)\n",
      "2016-10-15 14:00:11,682 : INFO : min_count=5 leaves 128953 word corpus (85% of original 150640, drops 21687)\n",
      "2016-10-15 14:00:11,692 : INFO : deleting the raw counts dictionary of 17168 items\n",
      "2016-10-15 14:00:11,693 : INFO : sample=0 downsamples 0 most-common words\n",
      "2016-10-15 14:00:11,694 : INFO : downsampling leaves estimated 128953 word corpus (100.0% of prior 128953)\n",
      "2016-10-15 14:00:11,694 : INFO : estimated required memory for 3631 words and 5 dimensions: 2688260 bytes\n",
      "2016-10-15 14:00:11,700 : INFO : constructing a huffman tree from 3631 words\n",
      "2016-10-15 14:00:11,873 : INFO : built huffman tree with maximum node depth 15\n",
      "2016-10-15 14:00:11,875 : INFO : resetting layer weights\n",
      "2016-10-15 14:00:11,931 : INFO : training model with 2 workers on 3631 vocabulary and 5 features, using sg=0 hs=1 sample=0 negative=0 window=8\n",
      "2016-10-15 14:00:11,932 : INFO : expecting 2184 sentences, matching count from corpus used for vocabulary survey\n",
      "2016-10-15 14:00:12,948 : INFO : PROGRESS: at 30.32% examples, 786593 words/s, in_qsize 3, out_qsize 0\n",
      "2016-10-15 14:00:13,958 : INFO : PROGRESS: at 66.30% examples, 859817 words/s, in_qsize 4, out_qsize 0\n",
      "2016-10-15 14:00:14,959 : INFO : PROGRESS: at 97.99% examples, 849901 words/s, in_qsize 3, out_qsize 0\n",
      "2016-10-15 14:00:15,020 : INFO : worker thread finished; awaiting finish of 1 more threads\n",
      "2016-10-15 14:00:15,033 : INFO : worker thread finished; awaiting finish of 0 more threads\n",
      "2016-10-15 14:00:15,033 : INFO : training on 3012800 raw words (2622740 effective words) took 3.1s, 846673 effective words/s\n"
     ]
    },
    {
     "name": "stdout",
     "output_type": "stream",
     "text": [
      "CPU times: user 7.83 s, sys: 158 ms, total: 7.99 s\n",
      "Wall time: 5.83 s\n"
     ]
    }
   ],
   "source": [
    "%%time\n",
    "trainsent = train_tagged.values\n",
    "testsent = test_tagged.values\n",
    "\n",
    "# simple gensim doc2vec api\n",
    "doc2vec_model = Doc2Vec(trainsent, workers=2, size=5, iter=20, dm=1)\n",
    "\n",
    "train_targets, train_regressors = zip(\n",
    "    *[(doc.tags[0], doc2vec_model.infer_vector(doc.words, steps=20)) for doc in trainsent])"
   ]
  },
  {
   "cell_type": "markdown",
   "metadata": {},
   "source": [
    "Interesting thing about doc2vec is that we need to run gradient descent during prediction to infer the vector for an unseen document. An unseen document is initially assigned a random vector and then this vector fit by gradient descent. Because of this randomness we get different vectors on re-runs of the next cell.\n",
    "\n",
    "Consequently, the accuracy of logistic regression changes when the test set vectors change."
   ]
  },
  {
   "cell_type": "code",
   "execution_count": 117,
   "metadata": {
    "collapsed": false
   },
   "outputs": [
    {
     "name": "stdout",
     "output_type": "stream",
     "text": [
      "CPU times: user 350 ms, sys: 949 µs, total: 351 ms\n",
      "Wall time: 352 ms\n"
     ]
    }
   ],
   "source": [
    "%%time\n",
    "test_targets, test_regressors = zip(\n",
    "    *[(doc.tags[0], doc2vec_model.infer_vector(doc.words, steps=20)) for doc in testsent])"
   ]
  },
  {
   "cell_type": "code",
   "execution_count": 118,
   "metadata": {
    "collapsed": false
   },
   "outputs": [
    {
     "name": "stdout",
     "output_type": "stream",
     "text": [
      "accuracy 0.382716049383\n",
      "confusion matrix\n",
      " [[ 8  0 30  0  0  4]\n",
      " [ 3  0 20  0  0  8]\n",
      " [ 4  0 75  0  1  6]\n",
      " [ 2  0 13  0  0  1]\n",
      " [ 2  0 29  0  0  4]\n",
      " [ 5  0 18  0  0 10]]\n",
      "(row=expected, col=predicted)\n"
     ]
    },
    {
     "data": {
      "image/png": "[encoded data removed]",
      "text/plain": [
       "<matplotlib.figure.Figure at 0x7fa8e56af910>"
      ]
     },
     "metadata": {},
     "output_type": "display_data"
    }
   ],
   "source": [
    "logreg = linear_model.LogisticRegression(n_jobs=1, C=1e5)\n",
    "logreg = logreg.fit(train_regressors, train_targets)\n",
    "evaluate_prediction(logreg.predict(test_regressors), test_targets, title=str(doc2vec_model))"
   ]
  },
  {
   "cell_type": "markdown",
   "metadata": {},
   "source": [
    "KNN gives a lower accuracy than logistic regression."
   ]
  },
  {
   "cell_type": "code",
   "execution_count": 112,
   "metadata": {
    "collapsed": false
   },
   "outputs": [
    {
     "name": "stderr",
     "output_type": "stream",
     "text": [
      "2016-10-15 14:00:18,175 : INFO : precomputing L2-norms of doc weight vectors\n"
     ]
    },
    {
     "name": "stdout",
     "output_type": "stream",
     "text": [
      "accuracy 0.288065843621\n",
      "confusion matrix\n",
      " [[18  2  4  7  6  5]\n",
      " [ 6  2  3  4  3 13]\n",
      " [ 6  6 27 14 16 17]\n",
      " [ 1  3  5  3  2  2]\n",
      " [ 5  2 14  4  4  6]\n",
      " [ 6  6  1  3  1 16]]\n",
      "(row=expected, col=predicted)\n",
      "CPU times: user 235 ms, sys: 126 ms, total: 361 ms\n",
      "Wall time: 217 ms\n"
     ]
    },
    {
     "data": {
      "image/png": "[encoded data removed]",
      "text/plain": [
       "<matplotlib.figure.Figure at 0x7fa8e2cf8a90>"
      ]
     },
     "metadata": {},
     "output_type": "display_data"
    }
   ],
   "source": [
    "%%time \n",
    "knn_test_predictions = [\n",
    "    doc2vec_model.docvecs.most_similar([pred_vec], topn=1)[0][0]\n",
    "    for pred_vec in test_regressors\n",
    "]\n",
    "evaluate_prediction(knn_test_predictions, test_targets, str(doc2vec_model))"
   ]
  },
  {
   "cell_type": "markdown",
   "metadata": {},
   "source": [
    "Doc2vec gives us a vector for each genre so we can see which genres are close together."
   ]
  },
  {
   "cell_type": "code",
   "execution_count": 120,
   "metadata": {
    "collapsed": false
   },
   "outputs": [
    {
     "data": {
      "text/plain": [
       "[('animation', 0.6855857968330383),\n",
       " ('sci-fi', 0.596006453037262),\n",
       " ('fantasy', 0.5705305337905884),\n",
       " ('comedy', -0.4024767279624939),\n",
       " ('romance', -0.41714411973953247)]"
      ]
     },
     "execution_count": 120,
     "metadata": {},
     "output_type": "execute_result"
    }
   ],
   "source": [
    "doc2vec_model.docvecs.most_similar('action')"
   ]
  },
  {
   "cell_type": "markdown",
   "metadata": {},
   "source": [
    "Words surrounding the 'sci-fi' tag describe it pretty accurately!"
   ]
  },
  {
   "cell_type": "code",
   "execution_count": 121,
   "metadata": {
    "collapsed": false,
    "scrolled": true
   },
   "outputs": [
    {
     "name": "stderr",
     "output_type": "stream",
     "text": [
      "2016-10-15 14:01:53,046 : INFO : precomputing L2-norms of word weight vectors\n"
     ]
    },
    {
     "data": {
      "text/plain": [
       "[('enjoy', 0.9824739694595337),\n",
       " ('sun', 0.9810582995414734),\n",
       " ('outside', 0.9726916551589966),\n",
       " ('team', 0.9708671569824219),\n",
       " ('revolt', 0.9613430500030518),\n",
       " ('planet', 0.9570795297622681),\n",
       " ('image', 0.9526959657669067),\n",
       " ('empire', 0.9407891035079956),\n",
       " ('population', 0.9381753206253052),\n",
       " ('frozen', 0.9293586611747742)]"
      ]
     },
     "execution_count": 121,
     "metadata": {},
     "output_type": "execute_result"
    }
   ],
   "source": [
    "doc2vec_model.most_similar([doc2vec_model.docvecs['sci-fi']])"
   ]
  },
  {
   "cell_type": "markdown",
   "metadata": {},
   "source": [
    "## Doc2vec things to try\n",
    "Try tagging every sentence with a unique tag 'SENT_123' and then apply KNN. Try multiple tags per plot.\n"
   ]
  },
  {
   "cell_type": "markdown",
   "metadata": {},
   "source": [
    "# Deep IR"
   ]
  },
  {
   "cell_type": "markdown",
   "metadata": {},
   "source": [
    "'Deep IR' is a technique developed by  [“Document Classification by Inversion of Distributed Language Representations”, Matt Taddy](http://arxiv.org/pdf/1504.07295v3.pdf). Matt has contributed a gensim [tutorial](https://github.com/piskvorky/gensim/blob/develop/docs/notebooks/deepir.ipynb) - great source of more in depth information.\n",
    "\n",
    "In short the algorithm is:\n",
    "\n",
    "1. Train a word2vec model only on comedy plots.\n",
    "\n",
    "2. Trian another model only on sci-fi, another on romance etc. Get 6 models - one for each genre.\n",
    "\n",
    "3. Take a plot and see which model fits it best using Bayes' Theorem\n",
    "\n"
   ]
  },
  {
   "cell_type": "markdown",
   "metadata": {},
   "source": [
    "The tokenization is different from other methods. The reason for this is that we are following an original approach in the paper. The purpose of this tutorial is to see how the models behave out of the box.\n",
    "\n",
    "We just clean non-alphanumeric characters and split by sentences."
   ]
  },
  {
   "cell_type": "code",
   "execution_count": 129,
   "metadata": {
    "collapsed": true
   },
   "outputs": [],
   "source": [
    "import re\n",
    "contractions = re.compile(r\"'|-|\\\"\")\n",
    "# all non alphanumeric\n",
    "symbols = re.compile(r'(\\W+)', re.U)\n",
    "# single character removal\n",
    "singles = re.compile(r'(\\s\\S\\s)', re.I|re.U)\n",
    "# separators (any whitespace)\n",
    "seps = re.compile(r'\\s+')\n",
    "\n",
    "# cleaner (order matters)\n",
    "def clean(text): \n",
    "    text = text.lower()\n",
    "    text = contractions.sub('', text)\n",
    "    text = symbols.sub(r' \\1 ', text)\n",
    "    text = singles.sub(' ', text)\n",
    "    text = seps.sub(' ', text)\n",
    "    return text\n",
    "\n",
    "# sentence splitter\n",
    "alteos = re.compile(r'([!\\?])')\n",
    "def sentences(l):\n",
    "    l = alteos.sub(r' \\1 .', l).rstrip(\"(\\.)*\\n\")\n",
    "    return l.split(\".\")\n"
   ]
  },
  {
   "cell_type": "code",
   "execution_count": 130,
   "metadata": {
    "collapsed": true
   },
   "outputs": [],
   "source": [
    "def plots(label):\n",
    "    my_df = None\n",
    "    if label=='training':\n",
    "        my_df = train_data\n",
    "    else:\n",
    "        my_df = test_data\n",
    "    for i, row in my_df.iterrows():\n",
    "        yield {'y':row['tag'],\\\n",
    "        'x':[clean(s).split() for s in sentences(row['plot'])]}\n"
   ]
  },
  {
   "cell_type": "code",
   "execution_count": 131,
   "metadata": {
    "collapsed": false
   },
   "outputs": [
    {
     "name": "stdout",
     "output_type": "stream",
     "text": [
      "CPU times: user 977 ms, sys: 21.1 ms, total: 998 ms\n",
      "Wall time: 993 ms\n"
     ]
    }
   ],
   "source": [
    "%%time\n",
    "# The corpus is small so can be read into memory\n",
    "revtrain = list(plots(\"training\"))\n",
    "revtest = list(plots(\"test\"))"
   ]
  },
  {
   "cell_type": "code",
   "execution_count": 132,
   "metadata": {
    "collapsed": false
   },
   "outputs": [],
   "source": [
    "# shuffle training set for unbiased word2vec training\n",
    "np.random.shuffle(revtrain)"
   ]
  },
  {
   "cell_type": "code",
   "execution_count": 133,
   "metadata": {
    "collapsed": true
   },
   "outputs": [],
   "source": [
    "def tag_sentences(reviews, stars=my_tags):  \n",
    "    for r in reviews:\n",
    "        if r['y'] in stars:\n",
    "            for s in r['x']:\n",
    "                yield s"
   ]
  },
  {
   "cell_type": "markdown",
   "metadata": {},
   "source": [
    "An example `sci-fi` sentence:"
   ]
  },
  {
   "cell_type": "code",
   "execution_count": 134,
   "metadata": {
    "collapsed": false
   },
   "outputs": [
    {
     "data": {
      "text/plain": [
       "['the', 'astronauts', 'william', 'xu', 'rosa', 'dasque', 'dr']"
      ]
     },
     "execution_count": 134,
     "metadata": {},
     "output_type": "execute_result"
    }
   ],
   "source": [
    "next(tag_sentences(revtrain, my_tags[0]))"
   ]
  },
  {
   "cell_type": "markdown",
   "metadata": {},
   "source": [
    "We train our own 6 word2vec models from scratch. "
   ]
  },
  {
   "cell_type": "code",
   "execution_count": 135,
   "metadata": {
    "collapsed": false
   },
   "outputs": [
    {
     "name": "stderr",
     "output_type": "stream",
     "text": [
      "2016-10-15 14:09:57,213 : INFO : collecting all words and their counts\n",
      "2016-10-15 14:09:57,214 : INFO : PROGRESS: at sentence #0, processed 0 words, keeping 0 word types\n",
      "2016-10-15 14:09:57,280 : INFO : collected 17544 word types from a corpus of 148422 raw words and 7880 sentences\n",
      "2016-10-15 14:09:57,313 : INFO : min_count=5 retains 3647 unique words (20% of original 17544, drops 13897)\n",
      "2016-10-15 14:09:57,314 : INFO : min_count=5 leaves 126255 word corpus (85% of original 148422, drops 22167)\n",
      "2016-10-15 14:09:57,328 : INFO : deleting the raw counts dictionary of 17544 items\n",
      "2016-10-15 14:09:57,329 : INFO : sample=0.001 downsamples 42 most-common words\n",
      "2016-10-15 14:09:57,330 : INFO : downsampling leaves estimated 91197 word corpus (72.2% of prior 126255)\n",
      "2016-10-15 14:09:57,330 : INFO : estimated required memory for 3647 words and 100 dimensions: 5470500 bytes\n",
      "2016-10-15 14:09:57,337 : INFO : constructing a huffman tree from 3647 words\n",
      "2016-10-15 14:09:57,459 : INFO : built huffman tree with maximum node depth 15\n",
      "2016-10-15 14:09:57,461 : INFO : resetting layer weights\n"
     ]
    },
    {
     "name": "stdout",
     "output_type": "stream",
     "text": [
      "Word2Vec(vocab=0, size=100, alpha=0.025)\n",
      "('sci-fi', 'genre (', 1157, ')')"
     ]
    },
    {
     "name": "stderr",
     "output_type": "stream",
     "text": [
      "2016-10-15 14:09:58,197 : INFO : training model with 4 workers on 3647 vocabulary and 100 features, using sg=0 hs=1 sample=0.001 negative=0 window=5\n",
      "2016-10-15 14:09:59,204 : INFO : PROGRESS: at 56.79% examples, 752105 words/s, in_qsize 7, out_qsize 0\n",
      "2016-10-15 14:09:59,921 : INFO : worker thread finished; awaiting finish of 3 more threads\n",
      "2016-10-15 14:09:59,922 : INFO : worker thread finished; awaiting finish of 2 more threads\n",
      "2016-10-15 14:09:59,927 : INFO : worker thread finished; awaiting finish of 1 more threads\n",
      "2016-10-15 14:09:59,928 : INFO : worker thread finished; awaiting finish of 0 more threads\n",
      "2016-10-15 14:09:59,929 : INFO : training on 2163100 raw words (1330019 effective words) took 1.7s, 769556 effective words/s\n"
     ]
    },
    {
     "name": "stdout",
     "output_type": "stream",
     "text": [
      "\n",
      "('action', 'genre (', 1370, ')')"
     ]
    },
    {
     "name": "stderr",
     "output_type": "stream",
     "text": [
      "2016-10-15 14:09:59,931 : INFO : training model with 4 workers on 3647 vocabulary and 100 features, using sg=0 hs=1 sample=0.001 negative=0 window=5\n",
      "2016-10-15 14:10:00,949 : INFO : PROGRESS: at 43.02% examples, 678661 words/s, in_qsize 8, out_qsize 0\n",
      "2016-10-15 14:10:01,952 : INFO : PROGRESS: at 87.60% examples, 694372 words/s, in_qsize 8, out_qsize 0\n",
      "2016-10-15 14:10:02,186 : INFO : worker thread finished; awaiting finish of 3 more threads\n",
      "2016-10-15 14:10:02,187 : INFO : worker thread finished; awaiting finish of 2 more threads\n",
      "2016-10-15 14:10:02,196 : INFO : worker thread finished; awaiting finish of 1 more threads\n",
      "2016-10-15 14:10:02,199 : INFO : worker thread finished; awaiting finish of 0 more threads\n",
      "2016-10-15 14:10:02,199 : INFO : training on 2577000 raw words (1598966 effective words) took 2.3s, 706310 effective words/s\n"
     ]
    },
    {
     "name": "stdout",
     "output_type": "stream",
     "text": [
      "\n",
      "('comedy', 'genre (', 2375, ')')"
     ]
    },
    {
     "name": "stderr",
     "output_type": "stream",
     "text": [
      "2016-10-15 14:10:02,202 : INFO : training model with 4 workers on 3647 vocabulary and 100 features, using sg=0 hs=1 sample=0.001 negative=0 window=5\n",
      "2016-10-15 14:10:03,210 : INFO : PROGRESS: at 23.68% examples, 650721 words/s, in_qsize 8, out_qsize 0\n",
      "2016-10-15 14:10:04,217 : INFO : PROGRESS: at 49.55% examples, 680775 words/s, in_qsize 7, out_qsize 0\n",
      "2016-10-15 14:10:05,218 : INFO : PROGRESS: at 76.54% examples, 702449 words/s, in_qsize 7, out_qsize 0\n",
      "2016-10-15 14:10:06,054 : INFO : worker thread finished; awaiting finish of 3 more threads\n",
      "2016-10-15 14:10:06,056 : INFO : worker thread finished; awaiting finish of 2 more threads\n",
      "2016-10-15 14:10:06,066 : INFO : worker thread finished; awaiting finish of 1 more threads\n",
      "2016-10-15 14:10:06,070 : INFO : worker thread finished; awaiting finish of 0 more threads\n",
      "2016-10-15 14:10:06,070 : INFO : training on 4515700 raw words (2765237 effective words) took 3.9s, 715493 effective words/s\n"
     ]
    },
    {
     "name": "stdout",
     "output_type": "stream",
     "text": [
      "\n",
      "('fantasy', 'genre (', 707, ')')"
     ]
    },
    {
     "name": "stderr",
     "output_type": "stream",
     "text": [
      "2016-10-15 14:10:06,072 : INFO : training model with 4 workers on 3647 vocabulary and 100 features, using sg=0 hs=1 sample=0.001 negative=0 window=5\n",
      "2016-10-15 14:10:07,075 : INFO : PROGRESS: at 92.41% examples, 759786 words/s, in_qsize 7, out_qsize 0\n",
      "2016-10-15 14:10:07,141 : INFO : worker thread finished; awaiting finish of 3 more threads\n",
      "2016-10-15 14:10:07,144 : INFO : worker thread finished; awaiting finish of 2 more threads\n",
      "2016-10-15 14:10:07,150 : INFO : worker thread finished; awaiting finish of 1 more threads\n",
      "2016-10-15 14:10:07,153 : INFO : worker thread finished; awaiting finish of 0 more threads\n",
      "2016-10-15 14:10:07,154 : INFO : training on 1340700 raw words (822301 effective words) took 1.1s, 762356 effective words/s\n"
     ]
    },
    {
     "name": "stdout",
     "output_type": "stream",
     "text": [
      "\n",
      "('animation', 'genre (', 867, ')')"
     ]
    },
    {
     "name": "stderr",
     "output_type": "stream",
     "text": [
      "2016-10-15 14:10:07,156 : INFO : training model with 4 workers on 3647 vocabulary and 100 features, using sg=0 hs=1 sample=0.001 negative=0 window=5\n",
      "2016-10-15 14:10:08,162 : INFO : PROGRESS: at 73.48% examples, 712639 words/s, in_qsize 8, out_qsize 0\n",
      "2016-10-15 14:10:08,494 : INFO : worker thread finished; awaiting finish of 3 more threads\n",
      "2016-10-15 14:10:08,496 : INFO : worker thread finished; awaiting finish of 2 more threads\n",
      "2016-10-15 14:10:08,505 : INFO : worker thread finished; awaiting finish of 1 more threads\n",
      "2016-10-15 14:10:08,507 : INFO : worker thread finished; awaiting finish of 0 more threads\n",
      "2016-10-15 14:10:08,508 : INFO : training on 1604300 raw words (973579 effective words) took 1.3s, 721683 effective words/s\n"
     ]
    },
    {
     "name": "stdout",
     "output_type": "stream",
     "text": [
      "\n",
      "('romance', 'genre (', 1404, ')')"
     ]
    },
    {
     "name": "stderr",
     "output_type": "stream",
     "text": [
      "2016-10-15 14:10:08,510 : INFO : training model with 4 workers on 3647 vocabulary and 100 features, using sg=0 hs=1 sample=0.001 negative=0 window=5\n",
      "2016-10-15 14:10:09,525 : INFO : PROGRESS: at 46.13% examples, 749772 words/s, in_qsize 8, out_qsize 0\n",
      "2016-10-15 14:10:10,549 : INFO : PROGRESS: at 82.06% examples, 664213 words/s, in_qsize 6, out_qsize 2\n",
      "2016-10-15 14:10:10,984 : INFO : worker thread finished; awaiting finish of 3 more threads\n",
      "2016-10-15 14:10:10,994 : INFO : worker thread finished; awaiting finish of 2 more threads\n",
      "2016-10-15 14:10:10,996 : INFO : worker thread finished; awaiting finish of 1 more threads\n",
      "2016-10-15 14:10:10,999 : INFO : worker thread finished; awaiting finish of 0 more threads\n",
      "2016-10-15 14:10:11,000 : INFO : training on 2641400 raw words (1630214 effective words) took 2.5s, 657805 effective words/s\n"
     ]
    },
    {
     "name": "stdout",
     "output_type": "stream",
     "text": [
      "\n",
      "CPU times: user 33.3 s, sys: 625 ms, total: 33.9 s\n",
      "Wall time: 13.8 s\n"
     ]
    }
   ],
   "source": [
    "%%time \n",
    "## training\n",
    "from gensim.models import Word2Vec\n",
    "import multiprocessing\n",
    "\n",
    "## create a w2v learner \n",
    "basemodel = Word2Vec(\n",
    "    workers=multiprocessing.cpu_count(), # use your cores\n",
    "    iter=100, # iter = sweeps of SGD through the data; more is better\n",
    "    hs=1, negative=0, # we only have scoring for the hierarchical softmax setup\n",
    "    \n",
    "    )\n",
    "print(basemodel)\n",
    "basemodel.build_vocab(tag_sentences(revtrain)) \n",
    "from copy import deepcopy\n",
    "genremodels = [deepcopy(basemodel) for i in range(len(my_tags))]\n",
    "for i in range(len(my_tags)):\n",
    "    slist = list(tag_sentences(revtrain, my_tags[i]))\n",
    "    print(my_tags[i], \"genre (\", len(slist), \")\")\n",
    "    genremodels[i].train(  slist, total_examples=len(slist) )\n",
    "# get the probs (note we give docprob a list of lists of words, plus the models)\n"
   ]
  },
  {
   "cell_type": "markdown",
   "metadata": {},
   "source": [
    "Now we will compute most likely class for a plot using Bayes' Theorem formula."
   ]
  },
  {
   "cell_type": "markdown",
   "metadata": {},
   "source": [
    "<img src='images/deep_ir_bayes.png' width=600>"
   ]
  },
  {
   "cell_type": "markdown",
   "metadata": {},
   "source": [
    "For any new sentence we can obtain its _likelihood_ (lhd; actually, the composite likelihood approximation; see the paper) using the [score](https://radimrehurek.com/gensim/models/word2vec.html#gensim.models.word2vec.Word2Vec.score) function in the `word2vec` class.  We get the likelihood for each sentence in the first test review, then convert to a probability over star ratings. Every sentence in the review is evaluated separately and the final star rating of the review is an average vote of all the sentences. This is all in the following handy wrapper. (from the original [tutorial](https://github.com/piskvorky/gensim/blob/develop/docs/notebooks/deepir.ipynb) by Matt Taddy."
   ]
  },
  {
   "cell_type": "code",
   "execution_count": 136,
   "metadata": {
    "collapsed": true
   },
   "outputs": [],
   "source": [
    "\"\"\"\n",
    "docprob takes two lists\n",
    "* docs: a list of documents, each of which is a list of sentences\n",
    "* models: the candidate word2vec models (each potential class)\n",
    "\n",
    "it returns the array of class probabilities.  Everything is done in-memory.\n",
    "\"\"\"\n",
    "\n",
    "\n",
    "def docprob(docs, mods):\n",
    "    # score() takes a list [s] of sentences here; could also be a sentence generator\n",
    "    sentlist = [s for d in docs for s in d]\n",
    "    # the log likelihood of each sentence in this review under each w2v representation\n",
    "    llhd = np.array( [ m.score(sentlist, len(sentlist)) for m in mods ] )\n",
    "    # now exponentiate to get likelihoods, \n",
    "    lhd = np.exp(llhd - llhd.max(axis=0)) # subtract row max to avoid numeric overload\n",
    "    # normalize across models (stars) to get sentence-star probabilities\n",
    "    prob = pd.DataFrame( (lhd/lhd.sum(axis=0)).transpose() )\n",
    "    # and finally average the sentence probabilities to get the review probability\n",
    "    prob[\"doc\"] = [i for i,d in enumerate(docs) for s in d]\n",
    "    prob = prob.groupby(\"doc\").mean()\n",
    "    return prob"
   ]
  },
  {
   "cell_type": "code",
   "execution_count": 137,
   "metadata": {
    "collapsed": false
   },
   "outputs": [
    {
     "name": "stderr",
     "output_type": "stream",
     "text": [
      "2016-10-15 14:10:11,045 : INFO : scoring sentences with 4 workers on 3647 vocabulary and 100 features, using sg=0 hs=1 sample=0.001 and negative=0\n",
      "2016-10-15 14:10:11,048 : INFO : reached end of input; waiting to finish 9 outstanding jobs\n",
      "2016-10-15 14:10:11,076 : INFO : scoring 894 sentences took 0.0s, 29796 sentences/s\n",
      "2016-10-15 14:10:11,077 : INFO : scoring sentences with 4 workers on 3647 vocabulary and 100 features, using sg=0 hs=1 sample=0.001 and negative=0\n",
      "2016-10-15 14:10:11,081 : INFO : reached end of input; waiting to finish 9 outstanding jobs\n",
      "2016-10-15 14:10:11,101 : INFO : scoring 894 sentences took 0.0s, 38063 sentences/s\n",
      "2016-10-15 14:10:11,102 : INFO : scoring sentences with 4 workers on 3647 vocabulary and 100 features, using sg=0 hs=1 sample=0.001 and negative=0\n",
      "2016-10-15 14:10:11,110 : INFO : reached end of input; waiting to finish 9 outstanding jobs\n",
      "2016-10-15 14:10:11,137 : INFO : scoring 894 sentences took 0.0s, 25649 sentences/s\n",
      "2016-10-15 14:10:11,138 : INFO : scoring sentences with 4 workers on 3647 vocabulary and 100 features, using sg=0 hs=1 sample=0.001 and negative=0\n",
      "2016-10-15 14:10:11,149 : INFO : reached end of input; waiting to finish 9 outstanding jobs\n",
      "2016-10-15 14:10:11,169 : INFO : scoring 894 sentences took 0.0s, 29958 sentences/s\n",
      "2016-10-15 14:10:11,169 : INFO : scoring sentences with 4 workers on 3647 vocabulary and 100 features, using sg=0 hs=1 sample=0.001 and negative=0\n",
      "2016-10-15 14:10:11,180 : INFO : reached end of input; waiting to finish 7 outstanding jobs\n",
      "2016-10-15 14:10:11,200 : INFO : scoring 894 sentences took 0.0s, 29448 sentences/s\n",
      "2016-10-15 14:10:11,201 : INFO : scoring sentences with 4 workers on 3647 vocabulary and 100 features, using sg=0 hs=1 sample=0.001 and negative=0\n",
      "2016-10-15 14:10:11,213 : INFO : reached end of input; waiting to finish 8 outstanding jobs\n",
      "2016-10-15 14:10:11,229 : INFO : scoring 894 sentences took 0.0s, 34176 sentences/s\n"
     ]
    },
    {
     "name": "stdout",
     "output_type": "stream",
     "text": [
      "CPU times: user 211 ms, sys: 9.28 ms, total: 221 ms\n",
      "Wall time: 206 ms\n"
     ]
    }
   ],
   "source": [
    "%%time\n",
    "## predict\n",
    "probs = docprob( [r['x'] for r in revtest], genremodels )  \n",
    "predictions = probs.idxmax(axis=1).apply(lambda x: my_tags[x])"
   ]
  },
  {
   "cell_type": "code",
   "execution_count": 138,
   "metadata": {
    "collapsed": false
   },
   "outputs": [
    {
     "data": {
      "text/plain": [
       "<matplotlib.axes._subplots.AxesSubplot at 0x7fa8e24c8f10>"
      ]
     },
     "execution_count": 138,
     "metadata": {},
     "output_type": "execute_result"
    },
    {
     "data": {
      "image/png": "[encoded data removed]",
      "text/plain": [
       "<matplotlib.figure.Figure at 0x7fa8e24f6850>"
      ]
     },
     "metadata": {},
     "output_type": "display_data"
    }
   ],
   "source": [
    "tag_index = 0\n",
    "col_name = \"out-of-sample prob positive for \" + my_tags[tag_index]\n",
    "probpos = pd.DataFrame({col_name:probs[[tag_index]].sum(axis=1), \n",
    "                        \"true genres\": [r['y'] for r in revtest]})\n",
    "probpos.boxplot(col_name,by=\"true genres\", figsize=(12,5))"
   ]
  },
  {
   "cell_type": "code",
   "execution_count": 94,
   "metadata": {
    "collapsed": true
   },
   "outputs": [],
   "source": [
    "target = [r['y'] for r in revtest]"
   ]
  },
  {
   "cell_type": "code",
   "execution_count": 95,
   "metadata": {
    "collapsed": false
   },
   "outputs": [
    {
     "name": "stdout",
     "output_type": "stream",
     "text": [
      "accuracy 0.304526748971\n",
      "confusion matrix\n",
      " [[13  5  8  3  6  7]\n",
      " [ 5  5  7  9  2  3]\n",
      " [ 8 10 29  6 22 11]\n",
      " [ 3  2  5  2  2  2]\n",
      " [ 3  3  8  8 11  2]\n",
      " [ 7  4  4  0  4 14]]\n",
      "(row=expected, col=predicted)\n"
     ]
    },
    {
     "data": {
      "image/png": "[encoded data removed]",
      "text/plain": [
       "<matplotlib.figure.Figure at 0x7fb786181f98>"
      ]
     },
     "metadata": {},
     "output_type": "display_data"
    }
   ],
   "source": [
    "evaluate_prediction(predictions, target, \"Deep IR with word2vec\")"
   ]
  },
  {
   "cell_type": "markdown",
   "metadata": {},
   "source": [
    "Performance is worse than for a naive predictor that says that everything is `comedy`. It is because we train each word2vec model from scratch on a very small sample of about 30k words.\n",
    "\n",
    "This model needs more data."
   ]
  },
  {
   "cell_type": "markdown",
   "metadata": {},
   "source": [
    "# Word Mover's Distance"
   ]
  },
  {
   "cell_type": "markdown",
   "metadata": {},
   "source": [
    "<img src='images/wmd_gelato.png'>\n",
    "\n",
    "Image from \n",
    "http://tech.opentable.com/2015/08/11/navigating-themes-in-restaurant-reviews-with-word-movers-distance/"
   ]
  },
  {
   "cell_type": "markdown",
   "metadata": {
    "collapsed": true
   },
   "source": [
    "Word Mover's Distance is a new algorithm developed in by [Matt Kusner](http://jmlr.org/proceedings/papers/v37/kusnerb15.pdf). There is Matt's code on [github](https://github.com/mkusner/wmd) and also Gensim can compute WMD similarity in this [PR](https://github.com/piskvorky/gensim/pull/659)."
   ]
  },
  {
   "cell_type": "markdown",
   "metadata": {},
   "source": [
    "For KNN the best code is from [Vlad Niculae's blog](http://vene.ro/blog/word-movers-distance-in-python.html). He is a contributor to sklearn and did great integration of WMD with sklearn KNN."
   ]
  },
  {
   "cell_type": "markdown",
   "metadata": {},
   "source": [
    "__Warning__: Write 7 GB file on disk to use memory mapping."
   ]
  },
  {
   "cell_type": "markdown",
   "metadata": {},
   "source": [
    "## __This part requires Python 3__"
   ]
  },
  {
   "cell_type": "code",
   "execution_count": 96,
   "metadata": {
    "collapsed": false
   },
   "outputs": [
    {
     "name": "stdout",
     "output_type": "stream",
     "text": [
      "CPU times: user 27.6 s, sys: 2.71 s, total: 30.3 s\n",
      "Wall time: 2min 41s\n"
     ]
    }
   ],
   "source": [
    "%%time\n",
    "\n",
    "data_folder = '/data/'\n",
    "\n",
    "fp = np.memmap(data_folder + \"embed.dat\", dtype=np.double, mode='w+', shape=wv.syn0norm.shape)\n",
    "fp[:] = wv.syn0norm[:]\n",
    "\n",
    "with smart_open(data_folder + \"embed.vocab\", \"w\") as f: \n",
    "    for _, w in sorted((voc.index, word) for word, voc in wv.vocab.items()):\n",
    "        print(w.encode('utf8'), file=f)\n",
    "del fp, wv"
   ]
  },
  {
   "cell_type": "code",
   "execution_count": 97,
   "metadata": {
    "collapsed": true
   },
   "outputs": [],
   "source": [
    "W = np.memmap(data_folder + \"embed.dat\", dtype=np.double, mode=\"r\", shape=(3000000, 300))\n",
    "with smart_open(data_folder + \"embed.vocab\", mode=\"rb\") as f:\n",
    "    vocab_list = [line.strip() for line in f]"
   ]
  },
  {
   "cell_type": "code",
   "execution_count": 98,
   "metadata": {
    "collapsed": true
   },
   "outputs": [],
   "source": [
    "vocab_dict = {w: k for k, w in enumerate(vocab_list)}"
   ]
  },
  {
   "cell_type": "markdown",
   "metadata": {},
   "source": [
    "### sklearn KNN integration with WMD"
   ]
  },
  {
   "cell_type": "code",
   "execution_count": 99,
   "metadata": {
    "collapsed": true
   },
   "outputs": [],
   "source": [
    "\"\"\"%%file word_movers_knn.py\"\"\"\n",
    "\n",
    "# Authors: Vlad Niculae, Matt Kusner\n",
    "# License: Simplified BSD\n",
    "\n",
    "import numpy as np\n",
    "from sklearn.metrics import euclidean_distances\n",
    "from sklearn.externals.joblib import Parallel, delayed\n",
    "from sklearn.neighbors import KNeighborsClassifier\n",
    "from sklearn.utils import check_array\n",
    "from sklearn.cross_validation import check_cv\n",
    "from sklearn.metrics.scorer import check_scoring\n",
    "from sklearn.preprocessing import normalize\n",
    "\n",
    "from pyemd import emd\n",
    "\n",
    "\n",
    "class WordMoversKNN(KNeighborsClassifier):\n",
    "    \"\"\"K nearest neighbors classifier using the Word Mover's Distance.\n",
    "\n",
    "    Parameters\n",
    "    ----------\n",
    "    \n",
    "    W_embed : array, shape: (vocab_size, embed_size)\n",
    "        Precomputed word embeddings between vocabulary items.\n",
    "        Row indices should correspond to the columns in the bag-of-words input.\n",
    "\n",
    "    n_neighbors : int, optional (default = 5)\n",
    "        Number of neighbors to use by default for :meth:`k_neighbors` queries.\n",
    "\n",
    "    n_jobs : int, optional (default = 1)\n",
    "        The number of parallel jobs to run for Word Mover's Distance computation.\n",
    "        If ``-1``, then the number of jobs is set to the number of CPU cores.\n",
    "    \n",
    "    verbose : int, optional\n",
    "        Controls the verbosity; the higher, the more messages. Defaults to 0.\n",
    "        \n",
    "    References\n",
    "    ----------\n",
    "    \n",
    "    Matt J. Kusner, Yu Sun, Nicholas I. Kolkin, Kilian Q. Weinberger\n",
    "    From Word Embeddings To Document Distances\n",
    "    The International Conference on Machine Learning (ICML), 2015\n",
    "    http://mkusner.github.io/publications/WMD.pdf\n",
    "    \n",
    "    \"\"\"\n",
    "    _pairwise = False\n",
    "\n",
    "    def __init__(self, W_embed, n_neighbors=1, n_jobs=1, verbose=False):\n",
    "        self.W_embed = W_embed\n",
    "        self.verbose = verbose\n",
    "        super(WordMoversKNN, self).__init__(n_neighbors=n_neighbors, n_jobs=n_jobs,\n",
    "                                            metric='precomputed', algorithm='brute')\n",
    "\n",
    "    def _wmd(self, i, row, X_train):\n",
    "        \"\"\"Compute the WMD between training sample i and given test row.\n",
    "        \n",
    "        Assumes that `row` and train samples are sparse BOW vectors summing to 1.\n",
    "        \"\"\"\n",
    "        union_idx = np.union1d(X_train[i].indices, row.indices)\n",
    "        W_minimal = self.W_embed[union_idx]\n",
    "        W_dist = euclidean_distances(W_minimal)\n",
    "        bow_i = X_train[i, union_idx].A.ravel()\n",
    "        bow_j = row[:, union_idx].A.ravel()\n",
    "        return emd(bow_i, bow_j, W_dist)\n",
    "    \n",
    "    def _wmd_row(self, row, X_train):\n",
    "        \"\"\"Wrapper to compute the WMD of a row with all training samples.\n",
    "        \n",
    "        Assumes that `row` and train samples are sparse BOW vectors summing to 1.\n",
    "        Useful for parallelization.\n",
    "        \"\"\"\n",
    "        n_samples_train = X_train.shape[0]\n",
    "        return [self._wmd(i, row, X_train) for i in range(n_samples_train)]\n",
    "\n",
    "    def _pairwise_wmd(self, X_test, X_train=None):\n",
    "        \"\"\"Computes the word mover's distance between all train and test points.\n",
    "        \n",
    "        Parallelized over rows of X_test.\n",
    "        \n",
    "        Assumes that train and test samples are sparse BOW vectors summing to 1.\n",
    "        \n",
    "        Parameters\n",
    "        ----------\n",
    "        X_test: scipy.sparse matrix, shape: (n_test_samples, vocab_size)\n",
    "            Test samples.\n",
    "        \n",
    "        X_train: scipy.sparse matrix, shape: (n_train_samples, vocab_size)\n",
    "            Training samples. If `None`, uses the samples the estimator was fit with.\n",
    "        \n",
    "        Returns\n",
    "        -------\n",
    "        dist : array, shape: (n_test_samples, n_train_samples)\n",
    "            Distances between all test samples and all train samples.\n",
    "        \n",
    "        \"\"\"\n",
    "        n_samples_test = X_test.shape[0]\n",
    "        \n",
    "        if X_train is None:\n",
    "            X_train = self._fit_X\n",
    "\n",
    "        dist = Parallel(n_jobs=self.n_jobs, verbose=self.verbose)(\n",
    "            delayed(self._wmd_row)(test_sample, X_train)\n",
    "            for test_sample in X_test)\n",
    "\n",
    "        return np.array(dist)\n",
    "\n",
    "    def fit(self, X, y):\n",
    "        \"\"\"Fit the model using X as training data and y as target values\n",
    "\n",
    "        Parameters\n",
    "        ----------\n",
    "        X : scipy sparse matrix, shape: (n_samples, n_features)\n",
    "            Training data. \n",
    "\n",
    "        y : {array-like, sparse matrix}\n",
    "            Target values of shape = [n_samples] or [n_samples, n_outputs]\n",
    "\n",
    "        \"\"\"\n",
    "        X = check_array(X, accept_sparse='csr', copy=True)\n",
    "        X = normalize(X, norm='l1', copy=False)\n",
    "        return super(WordMoversKNN, self).fit(X, y)\n",
    "\n",
    "    def predict(self, X):\n",
    "        \"\"\"Predict the class labels for the provided data\n",
    "        Parameters\n",
    "        ----------\n",
    "        X : scipy.sparse matrix, shape (n_test_samples, vocab_size)\n",
    "            Test samples.\n",
    "\n",
    "        Returns\n",
    "        -------\n",
    "        y : array of shape [n_samples]\n",
    "            Class labels for each data sample.\n",
    "        \"\"\"\n",
    "        X = check_array(X, accept_sparse='csr', copy=True)\n",
    "        X = normalize(X, norm='l1', copy=False)\n",
    "        dist = self._pairwise_wmd(X)\n",
    "        return super(WordMoversKNN, self).predict(dist)\n",
    "    \n",
    "    \n",
    "class WordMoversKNNCV(WordMoversKNN):\n",
    "    \"\"\"Cross-validated KNN classifier using the Word Mover's Distance.\n",
    "\n",
    "    Parameters\n",
    "    ----------\n",
    "    W_embed : array, shape: (vocab_size, embed_size)\n",
    "        Precomputed word embeddings between vocabulary items.\n",
    "        Row indices should correspond to the columns in the bag-of-words input.\n",
    "\n",
    "    n_neighbors_try : sequence, optional\n",
    "        List of ``n_neighbors`` values to try.\n",
    "        If None, tries 1-5 neighbors.\n",
    "\n",
    "    scoring : string, callable or None, optional, default: None\n",
    "        A string (see model evaluation documentation) or\n",
    "        a scorer callable object / function with signature\n",
    "        ``scorer(estimator, X, y)``.\n",
    "\n",
    "    cv : int, cross-validation generator or an iterable, optional\n",
    "        Determines the cross-validation splitting strategy.\n",
    "        Possible inputs for cv are:\n",
    "          - None, to use the default 3-fold cross-validation,\n",
    "          - integer, to specify the number of folds.\n",
    "          - An object to be used as a cross-validation generator.\n",
    "          - An iterable yielding train/test splits.\n",
    "        For integer/None inputs, StratifiedKFold is used.\n",
    "\n",
    "    n_jobs : int, optional (default = 1)\n",
    "        The number of parallel jobs to run for Word Mover's Distance computation.\n",
    "        If ``-1``, then the number of jobs is set to the number of CPU cores.\n",
    "\n",
    "    verbose : int, optional\n",
    "        Controls the verbosity; the higher, the more messages. Defaults to 0.\n",
    "\n",
    "    Attributes\n",
    "    ----------\n",
    "    cv_scores_ : array, shape (n_folds, len(n_neighbors_try))\n",
    "        Test set scores for each fold.\n",
    "\n",
    "    n_neighbors_ : int,\n",
    "        The best `n_neighbors` value found.\n",
    "\n",
    "    References\n",
    "    ----------\n",
    "\n",
    "    Matt J. Kusner, Yu Sun, Nicholas I. Kolkin, Kilian Q. Weinberger\n",
    "    From Word Embeddings To Document Distances\n",
    "    The International Conference on Machine Learning (ICML), 2015\n",
    "    http://mkusner.github.io/publications/WMD.pdf\n",
    "    \n",
    "    \"\"\"\n",
    "    def __init__(self, W_embed, n_neighbors_try=None, scoring=None, cv=3,\n",
    "                 n_jobs=1, verbose=False):\n",
    "        self.cv = cv\n",
    "        self.n_neighbors_try = n_neighbors_try\n",
    "        self.scoring = scoring\n",
    "        super(WordMoversKNNCV, self).__init__(W_embed,\n",
    "                                              n_neighbors=None,\n",
    "                                              n_jobs=n_jobs,\n",
    "                                              verbose=verbose)\n",
    "\n",
    "    def fit(self, X, y):\n",
    "        \"\"\"Fit KNN model by choosing the best `n_neighbors`.\n",
    "        \n",
    "        Parameters\n",
    "        -----------\n",
    "        X : scipy.sparse matrix, (n_samples, vocab_size)\n",
    "            Data\n",
    "        y : ndarray, shape (n_samples,) or (n_samples, n_targets)\n",
    "            Target\n",
    "        \"\"\"\n",
    "        if self.n_neighbors_try is None:\n",
    "            n_neighbors_try = range(1, 6)\n",
    "        else:\n",
    "            n_neighbors_try = self.n_neighbors_try\n",
    "\n",
    "        X = check_array(X, accept_sparse='csr', copy=True)\n",
    "        X = normalize(X, norm='l1', copy=False)\n",
    "\n",
    "        cv = check_cv(self.cv, X, y)\n",
    "        knn = KNeighborsClassifier(metric='precomputed', algorithm='brute')\n",
    "        scorer = check_scoring(knn, scoring=self.scoring)\n",
    "\n",
    "        scores = []\n",
    "        for train_ix, test_ix in cv:\n",
    "            dist = self._pairwise_wmd(X[test_ix], X[train_ix])\n",
    "            knn.fit(X[train_ix], y[train_ix])\n",
    "            scores.append([\n",
    "                scorer(knn.set_params(n_neighbors=k), dist, y[test_ix])\n",
    "                for k in n_neighbors_try\n",
    "            ])\n",
    "        scores = np.array(scores)\n",
    "        self.cv_scores_ = scores\n",
    "\n",
    "        best_k_ix = np.argmax(np.mean(scores, axis=0))\n",
    "        best_k = n_neighbors_try[best_k_ix]\n",
    "        self.n_neighbors = self.n_neighbors_ = best_k\n",
    "\n",
    "        return super(WordMoversKNNCV, self).fit(X, y)"
   ]
  },
  {
   "cell_type": "markdown",
   "metadata": {},
   "source": [
    "Let's see how well it performs."
   ]
  },
  {
   "cell_type": "code",
   "execution_count": 100,
   "metadata": {
    "collapsed": false
   },
   "outputs": [],
   "source": [
    "test_tokenized = test_data.apply(lambda r: w2v_tokenize_text(r['plot']), axis=1).values\n",
    "train_tokenized = train_data.apply(lambda r: w2v_tokenize_text(r['plot']), axis=1).values\n",
    "\n",
    "flat_train_tokenized = [item for sublist in train_tokenized for item in sublist]\n",
    "flat_test_tokenized = [item for sublist in test_tokenized for item in sublist]"
   ]
  },
  {
   "cell_type": "markdown",
   "metadata": {},
   "source": [
    "To speed up performance we focus only on the words that are both in Google News model and in our dataset."
   ]
  },
  {
   "cell_type": "code",
   "execution_count": null,
   "metadata": {
    "collapsed": false
   },
   "outputs": [],
   "source": [
    "# the word2vec model was loaded with strings as byte-arrays so need to convert\n",
    "def convert_to_vocab_bytes(s):\n",
    "     return bytes(\"b'\" + s + \"'\", encoding='utf-8')    "
   ]
  },
  {
   "cell_type": "code",
   "execution_count": null,
   "metadata": {
    "collapsed": false
   },
   "outputs": [],
   "source": [
    "vect = CountVectorizer(stop_words=\"english\").fit(flat_train_tokenized)\n",
    "common = [word for word in vect.get_feature_names() if convert_to_vocab_bytes(word) in vocab_dict]\n",
    "W_common = W[[vocab_dict[ convert_to_vocab_bytes(w)] for w in common]]"
   ]
  },
  {
   "cell_type": "markdown",
   "metadata": {},
   "source": [
    "The mass of the pile of mud in the Word Mover's Distance is determined by how many times a word appears in a document. So we need a CountVectorizer."
   ]
  },
  {
   "cell_type": "code",
   "execution_count": null,
   "metadata": {
    "collapsed": false
   },
   "outputs": [],
   "source": [
    "test_tokenized[0]"
   ]
  },
  {
   "cell_type": "code",
   "execution_count": null,
   "metadata": {
    "collapsed": true
   },
   "outputs": [],
   "source": [
    "vect = CountVectorizer(vocabulary=common, dtype=np.double)\n",
    "X_train = vect.fit_transform(train_tokenized)\n",
    "X_test = vect.transform(test_tokenized)"
   ]
  },
  {
   "cell_type": "markdown",
   "metadata": {},
   "source": [
    "Let's train the model."
   ]
  },
  {
   "cell_type": "code",
   "execution_count": null,
   "metadata": {
    "collapsed": true
   },
   "outputs": [],
   "source": [
    "knn = WordMoversKNN(n_neighbors=1,W_embed=W_common, verbose=5, n_jobs=7)"
   ]
  },
  {
   "cell_type": "code",
   "execution_count": null,
   "metadata": {
    "collapsed": false
   },
   "outputs": [],
   "source": [
    "knn.fit(X_train, train_data['tag'])"
   ]
  },
  {
   "cell_type": "markdown",
   "metadata": {},
   "source": [
    "__Warning__: 10 minutes runtime on 7 cores"
   ]
  },
  {
   "cell_type": "code",
   "execution_count": null,
   "metadata": {
    "collapsed": false
   },
   "outputs": [],
   "source": [
    "%%time \n",
    "predicted = knn.predict(X_test)"
   ]
  },
  {
   "cell_type": "markdown",
   "metadata": {},
   "source": [
    "Only 2% above the naive baseline unfortunately. WMD achieves good results on sentiment analysis in the published paper. Maybe it works better for sentiment than for topic classification that we use it here. Or maybe preprocessing can be tuned here. It is hard to debug a black box method!"
   ]
  },
  {
   "cell_type": "code",
   "execution_count": null,
   "metadata": {
    "collapsed": true
   },
   "outputs": [],
   "source": [
    "evaluate_prediction(predicted, test_data['tag'])"
   ]
  },
  {
   "cell_type": "markdown",
   "metadata": {},
   "source": [
    "# Conclusion"
   ]
  },
  {
   "cell_type": "markdown",
   "metadata": {},
   "source": [
    "Above we shown how to run 'hello-world' in 7 different document classification techniques. It is just a beginning of exploration of their features... There are a lot of parameters that can be tuned to get the best possible results out of them. The 'hello-world' run is in no way an indication of their best peformance. The goal of this tutorial is to show the API so you can start tuning them yourself."
   ]
  },
  {
   "cell_type": "markdown",
   "metadata": {},
   "source": [
    "Out of the box \"no tuning\" accuracy of bag of words is not far behind more advanced techniques. \n",
    "Tune them and the pre-processing for them well first and only then reach for more advanced methods if more accuracy is absolutely needed."
   ]
  }
 ],
 "metadata": {
  "celltoolbar": "Slideshow",
  "kernelspec": {
   "display_name": "Python 2",
   "language": "python",
   "name": "python2"
  },
  "language_info": {
   "codemirror_mode": {
    "name": "ipython",
    "version": 2
   },
   "file_extension": ".py",
   "mimetype": "text/x-python",
   "name": "python",
   "nbconvert_exporter": "python",
   "pygments_lexer": "ipython2",
   "version": "2.7.12"
  }
 },
 "nbformat": 4,
 "nbformat_minor": 0
}
